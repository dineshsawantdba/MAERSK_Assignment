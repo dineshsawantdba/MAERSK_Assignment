{
  "nbformat": 4,
  "nbformat_minor": 0,
  "metadata": {
    "colab": {
      "name": "Fake_news_detection.ipynb",
      "provenance": [],
      "collapsed_sections": [],
      "include_colab_link": true
    },
    "kernelspec": {
      "name": "python3",
      "display_name": "Python 3"
    },
    "language_info": {
      "name": "python"
    },
    "accelerator": "GPU"
  },
  "cells": [
    {
      "cell_type": "markdown",
      "metadata": {
        "id": "view-in-github",
        "colab_type": "text"
      },
      "source": [
        "<a href=\"https://colab.research.google.com/github/dineshsawantdba/MAERSK_Assignment/blob/main/Fake_news_detection.ipynb\" target=\"_parent\"><img src=\"https://colab.research.google.com/assets/colab-badge.svg\" alt=\"Open In Colab\"/></a>"
      ]
    },
    {
      "cell_type": "code",
      "metadata": {
        "id": "NdpU6n4kBsJd",
        "colab": {
          "base_uri": "https://localhost:8080/"
        },
        "outputId": "55129e57-7d37-4fad-dfb4-948124a1949f"
      },
      "source": [
        "!nvidia-smi -L"
      ],
      "execution_count": 11,
      "outputs": [
        {
          "output_type": "stream",
          "text": [
            "GPU 0: Tesla T4 (UUID: GPU-def55fde-e7e0-bb99-c4f6-235c82e4df47)\n"
          ],
          "name": "stdout"
        }
      ]
    },
    {
      "cell_type": "markdown",
      "metadata": {
        "id": "uCzZ3JwXWObS"
      },
      "source": [
        "**Import Libraries**"
      ]
    },
    {
      "cell_type": "code",
      "metadata": {
        "id": "tlkxXfWBBtwb"
      },
      "source": [
        "import pandas as pd\n",
        "import numpy as np\n",
        "from textblob import TextBlob\n",
        "import re\n",
        "import tqdm\n",
        "import matplotlib.pyplot as plt\n",
        "import seaborn as sns\n",
        "%matplotlib inline\n",
        "import warnings\n",
        "warnings.filterwarnings(\"ignore\")\n",
        "import io\n",
        "import pandas as pd"
      ],
      "execution_count": 1,
      "outputs": []
    },
    {
      "cell_type": "markdown",
      "metadata": {
        "id": "KHtZC1OaWYSB"
      },
      "source": [
        "**Upolad dataset**"
      ]
    },
    {
      "cell_type": "code",
      "metadata": {
        "id": "Lf9UzTyuB55k",
        "colab": {
          "base_uri": "https://localhost:8080/"
        },
        "outputId": "cb86849a-c3e5-4f82-bd99-1abeb99e094c"
      },
      "source": [
        "from google.colab import drive\n",
        "\n",
        "drive.mount('/content/drive')"
      ],
      "execution_count": 2,
      "outputs": [
        {
          "output_type": "stream",
          "text": [
            "Mounted at /content/drive\n"
          ],
          "name": "stdout"
        }
      ]
    },
    {
      "cell_type": "code",
      "metadata": {
        "id": "Uwohqh2aCZIq"
      },
      "source": [
        "path = \"/content/drive/MyDrive/fake_or_real_news.csv\"\n",
        "\n",
        "df = pd.read_csv(path)"
      ],
      "execution_count": 3,
      "outputs": []
    },
    {
      "cell_type": "code",
      "metadata": {
        "id": "o2bOq4O4ENPv",
        "colab": {
          "base_uri": "https://localhost:8080/",
          "height": 175
        },
        "outputId": "af0cce1f-a25d-4cf8-9aa4-6f43e43b1f1a"
      },
      "source": [
        "df.sample(4)"
      ],
      "execution_count": 4,
      "outputs": [
        {
          "output_type": "execute_result",
          "data": {
            "text/html": [
              "<div>\n",
              "<style scoped>\n",
              "    .dataframe tbody tr th:only-of-type {\n",
              "        vertical-align: middle;\n",
              "    }\n",
              "\n",
              "    .dataframe tbody tr th {\n",
              "        vertical-align: top;\n",
              "    }\n",
              "\n",
              "    .dataframe thead th {\n",
              "        text-align: right;\n",
              "    }\n",
              "</style>\n",
              "<table border=\"1\" class=\"dataframe\">\n",
              "  <thead>\n",
              "    <tr style=\"text-align: right;\">\n",
              "      <th></th>\n",
              "      <th>Unnamed: 0</th>\n",
              "      <th>title</th>\n",
              "      <th>text</th>\n",
              "      <th>label</th>\n",
              "    </tr>\n",
              "  </thead>\n",
              "  <tbody>\n",
              "    <tr>\n",
              "      <th>1172</th>\n",
              "      <td>22</td>\n",
              "      <td>What do Americans really think about abortion?...</td>\n",
              "      <td>An anti-abortion protester stands with a sign ...</td>\n",
              "      <td>REAL</td>\n",
              "    </tr>\n",
              "    <tr>\n",
              "      <th>193</th>\n",
              "      <td>4577</td>\n",
              "      <td>President Trump: A colossal failure for democr...</td>\n",
              "      <td>It’s impossible to overstate how colossal a fu...</td>\n",
              "      <td>REAL</td>\n",
              "    </tr>\n",
              "    <tr>\n",
              "      <th>4533</th>\n",
              "      <td>7134</td>\n",
              "      <td>Wolf Richter: Layoffs at Alphabet Access to Hi...</td>\n",
              "      <td>by Yves Smith \\nBy Wolf Richter, a San Francis...</td>\n",
              "      <td>FAKE</td>\n",
              "    </tr>\n",
              "    <tr>\n",
              "      <th>1112</th>\n",
              "      <td>8527</td>\n",
              "      <td>Banana Republic Election in the United States?</td>\n",
              "      <td>Banana Republic Election in the United States?...</td>\n",
              "      <td>FAKE</td>\n",
              "    </tr>\n",
              "  </tbody>\n",
              "</table>\n",
              "</div>"
            ],
            "text/plain": [
              "      Unnamed: 0  ... label\n",
              "1172          22  ...  REAL\n",
              "193         4577  ...  REAL\n",
              "4533        7134  ...  FAKE\n",
              "1112        8527  ...  FAKE\n",
              "\n",
              "[4 rows x 4 columns]"
            ]
          },
          "metadata": {
            "tags": []
          },
          "execution_count": 4
        }
      ]
    },
    {
      "cell_type": "markdown",
      "metadata": {
        "id": "li6Zi0uBWt8d"
      },
      "source": [
        "**Combine title and text coulmns**"
      ]
    },
    {
      "cell_type": "code",
      "metadata": {
        "id": "kkByeezyG091"
      },
      "source": [
        "df['News'] = df['title'].str.cat(df['text'], sep =\" \")"
      ],
      "execution_count": 5,
      "outputs": []
    },
    {
      "cell_type": "code",
      "metadata": {
        "id": "sQdSVn2zHGHZ",
        "colab": {
          "base_uri": "https://localhost:8080/",
          "height": 206
        },
        "outputId": "2506c021-6d9f-4b7f-a4e5-875deb9b849f"
      },
      "source": [
        "data = df[['News']]\n",
        "data.tail()"
      ],
      "execution_count": 6,
      "outputs": [
        {
          "output_type": "execute_result",
          "data": {
            "text/html": [
              "<div>\n",
              "<style scoped>\n",
              "    .dataframe tbody tr th:only-of-type {\n",
              "        vertical-align: middle;\n",
              "    }\n",
              "\n",
              "    .dataframe tbody tr th {\n",
              "        vertical-align: top;\n",
              "    }\n",
              "\n",
              "    .dataframe thead th {\n",
              "        text-align: right;\n",
              "    }\n",
              "</style>\n",
              "<table border=\"1\" class=\"dataframe\">\n",
              "  <thead>\n",
              "    <tr style=\"text-align: right;\">\n",
              "      <th></th>\n",
              "      <th>News</th>\n",
              "    </tr>\n",
              "  </thead>\n",
              "  <tbody>\n",
              "    <tr>\n",
              "      <th>6330</th>\n",
              "      <td>State Department says it can't find emails fro...</td>\n",
              "    </tr>\n",
              "    <tr>\n",
              "      <th>6331</th>\n",
              "      <td>The ‘P’ in PBS Should Stand for ‘Plutocratic’ ...</td>\n",
              "    </tr>\n",
              "    <tr>\n",
              "      <th>6332</th>\n",
              "      <td>Anti-Trump Protesters Are Tools of the Oligarc...</td>\n",
              "    </tr>\n",
              "    <tr>\n",
              "      <th>6333</th>\n",
              "      <td>In Ethiopia, Obama seeks progress on peace, se...</td>\n",
              "    </tr>\n",
              "    <tr>\n",
              "      <th>6334</th>\n",
              "      <td>Jeb Bush Is Suddenly Attacking Trump. Here's W...</td>\n",
              "    </tr>\n",
              "  </tbody>\n",
              "</table>\n",
              "</div>"
            ],
            "text/plain": [
              "                                                   News\n",
              "6330  State Department says it can't find emails fro...\n",
              "6331  The ‘P’ in PBS Should Stand for ‘Plutocratic’ ...\n",
              "6332  Anti-Trump Protesters Are Tools of the Oligarc...\n",
              "6333  In Ethiopia, Obama seeks progress on peace, se...\n",
              "6334  Jeb Bush Is Suddenly Attacking Trump. Here's W..."
            ]
          },
          "metadata": {
            "tags": []
          },
          "execution_count": 6
        }
      ]
    },
    {
      "cell_type": "markdown",
      "metadata": {
        "id": "MRuWTJWGXCF2"
      },
      "source": [
        "**Create function for text preprocessing**"
      ]
    },
    {
      "cell_type": "code",
      "metadata": {
        "id": "SIyCtrf7H-xo"
      },
      "source": [
        "def deconstructed(phrase):\n",
        "  # Specific\n",
        "  phrase = phrase.lower()\n",
        "  phrase = re.sub(r\"won't\",\"will not\",phrase)\n",
        "  phrase = re.sub(\"can\\'t\",\"can not\",phrase)\n",
        "  #General\n",
        "  phrase = re.sub(r\"n\\'t\",\"not\",phrase)\n",
        "  phrase = re.sub(r\"\\'re\",\"are\",phrase)\n",
        "  phrase = re.sub(r\"\\'s\",\"is\",phrase)\n",
        "  phrase = re.sub(r\"\\'d\",\"would\",phrase)\n",
        "  phrase = re.sub(r\"\\'ll\",\"will\",phrase)\n",
        "  phrase = re.sub(r\"\\'ve\",\"have\",phrase)\n",
        "  phrase = re.sub(r\"\\'m\",\"am\",phrase)\n",
        "  phrase = re.sub('[^A-Za-z0-9]+',' ',phrase)\n",
        "  phrase = re.sub('https?://\\S+|www\\.\\S+','',phrase)\n",
        "  phrase = phrase.replace('\\\\r',' ')\n",
        "  phrase = phrase.replace('\\\\\"',' ')\n",
        "  phrase = phrase.replace('\\\\n',' ')\n",
        "\n",
        "  return phrase\n"
      ],
      "execution_count": 7,
      "outputs": []
    },
    {
      "cell_type": "markdown",
      "metadata": {
        "id": "qV-i_BAuXP2U"
      },
      "source": [
        "**Remove stopwords**"
      ]
    },
    {
      "cell_type": "code",
      "metadata": {
        "id": "YBg6RqLZH-0M"
      },
      "source": [
        "# https://gist.github.com/sebleier/554280\n",
        "# we are removing the words from the stop words list: 'no', 'nor', 'not' , 'very'\n",
        "stopwords= ['i', 'me', 'my', 'myself', 'we', 'our', 'ours', 'ourselves', 'you', \"you're\", \"you've\",\\\n",
        "            \"you'll\", \"you'd\", 'your', 'yours', 'yourself', 'yourselves', 'he', 'him', 'his', 'himself', \\\n",
        "            'she', \"she's\", 'her', 'hers', 'herself', 'it', \"it's\", 'its', 'itself', 'they', 'them', 'their',\\\n",
        "            'theirs', 'themselves', 'what', 'which', 'who', 'whom', 'this', 'that', \"that'll\", 'these', 'those', \\\n",
        "            'am', 'is', 'are', 'was', 'were', 'be', 'been', 'being', 'have', 'has', 'had', 'having', 'do', 'does', \\\n",
        "            'did', 'doing', 'a', 'an', 'the', 'and', 'but', 'if', 'or', 'because', 'as', 'until', 'while', 'of', \\\n",
        "            'at', 'by', 'for', 'with', 'about', 'against', 'between', 'into', 'through', 'during', 'before', 'after',\\\n",
        "            'above', 'below', 'to', 'from', 'up', 'down', 'in', 'out', 'on', 'off', 'over', 'under', 'again', 'further',\\\n",
        "            'then', 'once', 'here', 'there', 'when', 'where', 'why', 'how', 'all', 'any', 'both', 'each', 'few', 'more',\\\n",
        "            'most', 'other', 'some', 'such', 'only', 'own', 'same', 'so', 'than', 'too', \\\n",
        "            's', 't', 'can', 'will', 'just', 'should', \"should've\", 'now', 'd', 'll', 'm', 'o', 're', \\\n",
        "            've', 'y', 'ain', 'aren','won']"
      ],
      "execution_count": 8,
      "outputs": []
    },
    {
      "cell_type": "markdown",
      "metadata": {
        "id": "OB65DNGiXfDd"
      },
      "source": [
        "**Use text preprocessing function on our text data**"
      ]
    },
    {
      "cell_type": "code",
      "metadata": {
        "id": "l44HPeK1H-3u",
        "colab": {
          "base_uri": "https://localhost:8080/"
        },
        "outputId": "1446720e-ac66-4d14-acf6-12fb1123f054"
      },
      "source": [
        "from tqdm import tqdm\n",
        "cleaned_text = []\n",
        "for sentence in tqdm(df['News'].values):\n",
        "  sent = deconstructed(sentence)\n",
        "  sent = ' '.join(e for e in sent.split() if e not in stopwords)\n",
        "  cleaned_text.append(sent.strip())"
      ],
      "execution_count": 9,
      "outputs": [
        {
          "output_type": "stream",
          "text": [
            "100%|██████████| 6335/6335 [00:10<00:00, 599.39it/s]\n"
          ],
          "name": "stderr"
        }
      ]
    },
    {
      "cell_type": "code",
      "metadata": {
        "id": "g_auZx_AIROh"
      },
      "source": [
        "df['cleaned_text'] = cleaned_text"
      ],
      "execution_count": 10,
      "outputs": []
    },
    {
      "cell_type": "markdown",
      "metadata": {
        "id": "JoPaBog1X0Vl"
      },
      "source": [
        "**Use TF-IDF vectorizer**"
      ]
    },
    {
      "cell_type": "code",
      "metadata": {
        "id": "NQXeaJcUI6MB",
        "colab": {
          "base_uri": "https://localhost:8080/"
        },
        "outputId": "bf613f07-63dd-4ab4-bd02-9d6f5d53c3f8"
      },
      "source": [
        "from sklearn.feature_extraction.text import TfidfVectorizer\n",
        "print(\"=\"*70)\n",
        "print(\"Before vectorization : \")\n",
        "print(\"-\"*70)\n",
        "print(\"Shape of X_train :\",X_train.shape)\n",
        "print(\"Shape of X_test :\",X_test.shape)\n",
        "print(\"=\"*70)\n",
        "\n",
        "vectorizer = TfidfVectorizer(min_df=10)\n",
        "\n",
        "X_train_tfidf = vectorizer.fit_transform(X_train)\n",
        "X_test_tfidf = vectorizer.transform(X_test)\n",
        "\n",
        "print(\"=\"*70)\n",
        "print(\"After vectorization : \")\n",
        "print(\"-\"*70)\n",
        "print(\"Shape of X_train :\",X_train_tfidf.shape)\n",
        "print(\"Shape of X_test :\",X_test_tfidf.shape)\n",
        "print(\"=\"*70)"
      ],
      "execution_count": 19,
      "outputs": [
        {
          "output_type": "stream",
          "text": [
            "======================================================================\n",
            "Before vectorization : \n",
            "----------------------------------------------------------------------\n",
            "Shape of X_train : (4434,)\n",
            "Shape of X_test : (1901,)\n",
            "======================================================================\n",
            "======================================================================\n",
            "After vectorization : \n",
            "----------------------------------------------------------------------\n",
            "Shape of X_train : (4434, 13605)\n",
            "Shape of X_test : (1901, 13605)\n",
            "======================================================================\n"
          ],
          "name": "stdout"
        }
      ]
    },
    {
      "cell_type": "markdown",
      "metadata": {
        "id": "kw6G4oO_X_sk"
      },
      "source": [
        "**WordCloud representation for train data**"
      ]
    },
    {
      "cell_type": "code",
      "metadata": {
        "id": "2qn3vK6XJDBJ",
        "colab": {
          "base_uri": "https://localhost:8080/",
          "height": 481
        },
        "outputId": "4b076bd7-39b9-4272-e733-229ba019fc9b"
      },
      "source": [
        "from wordcloud import WordCloud\n",
        "wordcloud = WordCloud(width=500,height=500,\n",
        "                      background_color='black',\n",
        "                      min_font_size=10).generate(str(X_train))\n",
        "#Plot wordcloud image\n",
        "plt.figure(figsize=(6,6))\n",
        "plt.imshow(wordcloud)\n",
        "plt.axis(\"off\")\n",
        "plt.tight_layout(pad=0)\n",
        "plt.title(\"WordCloud representation for Train data\",fontsize=15)\n",
        "plt.show()"
      ],
      "execution_count": 20,
      "outputs": [
        {
          "output_type": "display_data",
          "data": {
            "image/png": "[encoded data removed]",
            "text/plain": [
              "<Figure size 432x432 with 1 Axes>"
            ]
          },
          "metadata": {
            "tags": [],
            "needs_background": "light"
          }
        }
      ]
    },
    {
      "cell_type": "markdown",
      "metadata": {
        "id": "zaaEaEJnh4WJ"
      },
      "source": [
        "Here we can see most frequent words from training dataset"
      ]
    },
    {
      "cell_type": "markdown",
      "metadata": {
        "id": "VIWlXTHXYJ_U"
      },
      "source": [
        "**WordClod representation for test data**"
      ]
    },
    {
      "cell_type": "code",
      "metadata": {
        "id": "rVYB30eFJQTH",
        "colab": {
          "base_uri": "https://localhost:8080/",
          "height": 481
        },
        "outputId": "89fc6f28-2b09-4633-d2b3-d75830cbe061"
      },
      "source": [
        "from wordcloud import WordCloud\n",
        "wordcloud = WordCloud(width=500,height=500,\n",
        "                      background_color='black',\n",
        "                      min_font_size=10).generate(str(X_test))\n",
        "#Plot wordcloud image\n",
        "plt.figure(figsize=(6,6))\n",
        "plt.imshow(wordcloud)\n",
        "plt.axis(\"off\")\n",
        "plt.tight_layout(pad=0)\n",
        "plt.title(\"WordCloud representation for Test data\",fontsize=15)\n",
        "plt.show()"
      ],
      "execution_count": 21,
      "outputs": [
        {
          "output_type": "display_data",
          "data": {
            "image/png": "[encoded data removed]",
            "text/plain": [
              "<Figure size 432x432 with 1 Axes>"
            ]
          },
          "metadata": {
            "tags": [],
            "needs_background": "light"
          }
        }
      ]
    },
    {
      "cell_type": "markdown",
      "metadata": {
        "id": "MAuMnFN-YU2t"
      },
      "source": [
        "**Label encoding for target column**"
      ]
    },
    {
      "cell_type": "code",
      "metadata": {
        "id": "_ErtQRoYJWnu"
      },
      "source": [
        "from sklearn.preprocessing import LabelEncoder\n",
        "label_encoder = LabelEncoder()\n",
        "df['label'] = label_encoder.fit_transform(df['label'])"
      ],
      "execution_count": 12,
      "outputs": []
    },
    {
      "cell_type": "code",
      "metadata": {
        "id": "PTxtFIk_JwnJ"
      },
      "source": [
        "Target_labels = {'label' : ['REAL', 'FAKE'] , 'class' : [ 1,  0]}"
      ],
      "execution_count": 13,
      "outputs": []
    },
    {
      "cell_type": "code",
      "metadata": {
        "id": "Df5V-T3dKQJQ",
        "colab": {
          "base_uri": "https://localhost:8080/"
        },
        "outputId": "8f8ab5b0-5fa3-4d6e-824d-d4e65aa1b6a3"
      },
      "source": [
        "Target_labels"
      ],
      "execution_count": 14,
      "outputs": [
        {
          "output_type": "execute_result",
          "data": {
            "text/plain": [
              "{'class': [1, 0], 'label': ['REAL', 'FAKE']}"
            ]
          },
          "metadata": {
            "tags": []
          },
          "execution_count": 14
        }
      ]
    },
    {
      "cell_type": "code",
      "metadata": {
        "id": "SExP-I1pKSe6",
        "colab": {
          "base_uri": "https://localhost:8080/",
          "height": 310
        },
        "outputId": "20999c9c-d82c-41ec-f5df-ee1f3f9997da"
      },
      "source": [
        "df.head()"
      ],
      "execution_count": 15,
      "outputs": [
        {
          "output_type": "execute_result",
          "data": {
            "text/html": [
              "<div>\n",
              "<style scoped>\n",
              "    .dataframe tbody tr th:only-of-type {\n",
              "        vertical-align: middle;\n",
              "    }\n",
              "\n",
              "    .dataframe tbody tr th {\n",
              "        vertical-align: top;\n",
              "    }\n",
              "\n",
              "    .dataframe thead th {\n",
              "        text-align: right;\n",
              "    }\n",
              "</style>\n",
              "<table border=\"1\" class=\"dataframe\">\n",
              "  <thead>\n",
              "    <tr style=\"text-align: right;\">\n",
              "      <th></th>\n",
              "      <th>Unnamed: 0</th>\n",
              "      <th>title</th>\n",
              "      <th>text</th>\n",
              "      <th>label</th>\n",
              "      <th>News</th>\n",
              "      <th>cleaned_text</th>\n",
              "    </tr>\n",
              "  </thead>\n",
              "  <tbody>\n",
              "    <tr>\n",
              "      <th>0</th>\n",
              "      <td>8476</td>\n",
              "      <td>You Can Smell Hillary’s Fear</td>\n",
              "      <td>Daniel Greenfield, a Shillman Journalism Fello...</td>\n",
              "      <td>0</td>\n",
              "      <td>You Can Smell Hillary’s Fear Daniel Greenfield...</td>\n",
              "      <td>smell hillary fear daniel greenfield shillman ...</td>\n",
              "    </tr>\n",
              "    <tr>\n",
              "      <th>1</th>\n",
              "      <td>10294</td>\n",
              "      <td>Watch The Exact Moment Paul Ryan Committed Pol...</td>\n",
              "      <td>Google Pinterest Digg Linkedin Reddit Stumbleu...</td>\n",
              "      <td>0</td>\n",
              "      <td>Watch The Exact Moment Paul Ryan Committed Pol...</td>\n",
              "      <td>watch exact moment paul ryan committed politic...</td>\n",
              "    </tr>\n",
              "    <tr>\n",
              "      <th>2</th>\n",
              "      <td>3608</td>\n",
              "      <td>Kerry to go to Paris in gesture of sympathy</td>\n",
              "      <td>U.S. Secretary of State John F. Kerry said Mon...</td>\n",
              "      <td>1</td>\n",
              "      <td>Kerry to go to Paris in gesture of sympathy U....</td>\n",
              "      <td>kerry go paris gesture sympathy u secretary st...</td>\n",
              "    </tr>\n",
              "    <tr>\n",
              "      <th>3</th>\n",
              "      <td>10142</td>\n",
              "      <td>Bernie supporters on Twitter erupt in anger ag...</td>\n",
              "      <td>— Kaydee King (@KaydeeKing) November 9, 2016 T...</td>\n",
              "      <td>0</td>\n",
              "      <td>Bernie supporters on Twitter erupt in anger ag...</td>\n",
              "      <td>bernie supporters twitter erupt anger dnc trie...</td>\n",
              "    </tr>\n",
              "    <tr>\n",
              "      <th>4</th>\n",
              "      <td>875</td>\n",
              "      <td>The Battle of New York: Why This Primary Matters</td>\n",
              "      <td>It's primary day in New York and front-runners...</td>\n",
              "      <td>1</td>\n",
              "      <td>The Battle of New York: Why This Primary Matte...</td>\n",
              "      <td>battle new york primary matters itis primary d...</td>\n",
              "    </tr>\n",
              "  </tbody>\n",
              "</table>\n",
              "</div>"
            ],
            "text/plain": [
              "   Unnamed: 0  ...                                       cleaned_text\n",
              "0        8476  ...  smell hillary fear daniel greenfield shillman ...\n",
              "1       10294  ...  watch exact moment paul ryan committed politic...\n",
              "2        3608  ...  kerry go paris gesture sympathy u secretary st...\n",
              "3       10142  ...  bernie supporters twitter erupt anger dnc trie...\n",
              "4         875  ...  battle new york primary matters itis primary d...\n",
              "\n",
              "[5 rows x 6 columns]"
            ]
          },
          "metadata": {
            "tags": []
          },
          "execution_count": 15
        }
      ]
    },
    {
      "cell_type": "code",
      "metadata": {
        "id": "JcQlZt0oKXWX"
      },
      "source": [
        "df_1 = df[['cleaned_text','label']]"
      ],
      "execution_count": 16,
      "outputs": []
    },
    {
      "cell_type": "code",
      "metadata": {
        "id": "TJsaaxnXKrf3",
        "colab": {
          "base_uri": "https://localhost:8080/",
          "height": 206
        },
        "outputId": "c5cec3fd-be99-407a-a6ea-818c3548b93a"
      },
      "source": [
        "df_1.head()"
      ],
      "execution_count": 17,
      "outputs": [
        {
          "output_type": "execute_result",
          "data": {
            "text/html": [
              "<div>\n",
              "<style scoped>\n",
              "    .dataframe tbody tr th:only-of-type {\n",
              "        vertical-align: middle;\n",
              "    }\n",
              "\n",
              "    .dataframe tbody tr th {\n",
              "        vertical-align: top;\n",
              "    }\n",
              "\n",
              "    .dataframe thead th {\n",
              "        text-align: right;\n",
              "    }\n",
              "</style>\n",
              "<table border=\"1\" class=\"dataframe\">\n",
              "  <thead>\n",
              "    <tr style=\"text-align: right;\">\n",
              "      <th></th>\n",
              "      <th>cleaned_text</th>\n",
              "      <th>label</th>\n",
              "    </tr>\n",
              "  </thead>\n",
              "  <tbody>\n",
              "    <tr>\n",
              "      <th>0</th>\n",
              "      <td>smell hillary fear daniel greenfield shillman ...</td>\n",
              "      <td>0</td>\n",
              "    </tr>\n",
              "    <tr>\n",
              "      <th>1</th>\n",
              "      <td>watch exact moment paul ryan committed politic...</td>\n",
              "      <td>0</td>\n",
              "    </tr>\n",
              "    <tr>\n",
              "      <th>2</th>\n",
              "      <td>kerry go paris gesture sympathy u secretary st...</td>\n",
              "      <td>1</td>\n",
              "    </tr>\n",
              "    <tr>\n",
              "      <th>3</th>\n",
              "      <td>bernie supporters twitter erupt anger dnc trie...</td>\n",
              "      <td>0</td>\n",
              "    </tr>\n",
              "    <tr>\n",
              "      <th>4</th>\n",
              "      <td>battle new york primary matters itis primary d...</td>\n",
              "      <td>1</td>\n",
              "    </tr>\n",
              "  </tbody>\n",
              "</table>\n",
              "</div>"
            ],
            "text/plain": [
              "                                        cleaned_text  label\n",
              "0  smell hillary fear daniel greenfield shillman ...      0\n",
              "1  watch exact moment paul ryan committed politic...      0\n",
              "2  kerry go paris gesture sympathy u secretary st...      1\n",
              "3  bernie supporters twitter erupt anger dnc trie...      0\n",
              "4  battle new york primary matters itis primary d...      1"
            ]
          },
          "metadata": {
            "tags": []
          },
          "execution_count": 17
        }
      ]
    },
    {
      "cell_type": "markdown",
      "metadata": {
        "id": "ir1C_xxIZdJt"
      },
      "source": [
        "**Logistic Regression**"
      ]
    },
    {
      "cell_type": "code",
      "metadata": {
        "id": "PHrptRlIKtji"
      },
      "source": [
        "X = df_1['cleaned_text']\n",
        "y = df_1['label']\n",
        "\n",
        "from sklearn.model_selection import train_test_split\n",
        "X_train,X_test,y_train,y_test = train_test_split(X,y,stratify=y,test_size=0.3)"
      ],
      "execution_count": 18,
      "outputs": []
    },
    {
      "cell_type": "code",
      "metadata": {
        "id": "Na1SbMDOLQqT",
        "colab": {
          "base_uri": "https://localhost:8080/"
        },
        "outputId": "c8c55043-ee9f-4450-b0c4-437815e0648f"
      },
      "source": [
        "from sklearn.feature_extraction.text import CountVectorizer,TfidfVectorizer\n",
        "\n",
        "tf_idf_vect = TfidfVectorizer(ngram_range=(1,3),max_features=30000)\n",
        "X_train_tfidf = tf_idf_vect.fit_transform(X_train)\n",
        "\n",
        "print(\"Some sample features(Unique words in the corpus)\",tf_idf_vect.get_feature_names()[:20])\n",
        "print(\"=\"*100)\n",
        "#X_train_tfidf = tf_idf_vect.transform(X_train)\n",
        "X_test_tfidf = tf_idf_vect.transform(X_test)\n",
        "print(\"Type of count vectorizer\",type(tf_idf_vect))\n",
        "print(\"Shape of TFIDF count vectorizer for train data:\",X_train_tfidf.get_shape())\n",
        "print(\"Shape of TFIDF count vectorizer for test data:\",X_test_tfidf.get_shape())\n",
        "print(\"Number of unique words including both unigrams and bigrams\",X_train_tfidf.get_shape()[1])"
      ],
      "execution_count": 22,
      "outputs": [
        {
          "output_type": "stream",
          "text": [
            "Some sample features(Unique words in the corpus) ['00', '000', '000 000', '000 american', '000 americans', '000 campaign', '000 children', '000 clinton', '000 emails', '000 feet', '000 jobs', '000 miles', '000 new', '000 pages', '000 people', '000 per', '000 per year', '000 refugees', '000 syrian', '000 troops']\n",
            "====================================================================================================\n",
            "Type of count vectorizer <class 'sklearn.feature_extraction.text.TfidfVectorizer'>\n",
            "Shape of TFIDF count vectorizer for train data: (4434, 30000)\n",
            "Shape of TFIDF count vectorizer for test data: (1901, 30000)\n",
            "Number of unique words including both unigrams and bigrams 30000\n"
          ],
          "name": "stdout"
        }
      ]
    },
    {
      "cell_type": "code",
      "metadata": {
        "id": "1OpTqChxMha3",
        "colab": {
          "base_uri": "https://localhost:8080/"
        },
        "outputId": "91e0d299-c98d-4683-f346-e46509fbc401"
      },
      "source": [
        "tf_idf_features = tf_idf_vect.get_feature_names()\n",
        "tf_idf_features"
      ],
      "execution_count": 23,
      "outputs": [
        {
          "output_type": "execute_result",
          "data": {
            "text/plain": [
              "['00',\n",
              " '000',\n",
              " '000 000',\n",
              " '000 american',\n",
              " '000 americans',\n",
              " '000 campaign',\n",
              " '000 children',\n",
              " '000 clinton',\n",
              " '000 emails',\n",
              " '000 feet',\n",
              " '000 jobs',\n",
              " '000 miles',\n",
              " '000 new',\n",
              " '000 pages',\n",
              " '000 people',\n",
              " '000 per',\n",
              " '000 per year',\n",
              " '000 refugees',\n",
              " '000 syrian',\n",
              " '000 troops',\n",
              " '000 votes',\n",
              " '000 year',\n",
              " '000 years',\n",
              " '01',\n",
              " '02',\n",
              " '02 2016',\n",
              " '03',\n",
              " '03 2016',\n",
              " '04',\n",
              " '05',\n",
              " '06',\n",
              " '07',\n",
              " '07 2016',\n",
              " '08',\n",
              " '09',\n",
              " '10',\n",
              " '10 000',\n",
              " '10 000 people',\n",
              " '10 11',\n",
              " '10 15',\n",
              " '10 16',\n",
              " '10 20',\n",
              " '10 2016',\n",
              " '10 27',\n",
              " '10 30',\n",
              " '10 31',\n",
              " '10 americans',\n",
              " '10 billion',\n",
              " '10 brainforce',\n",
              " '10 brainforce 25',\n",
              " '10 days',\n",
              " '10 million',\n",
              " '10 minutes',\n",
              " '10 months',\n",
              " '10 percent',\n",
              " '10 point',\n",
              " '10 points',\n",
              " '10 republicans',\n",
              " '10 say',\n",
              " '10 times',\n",
              " '10 year',\n",
              " '10 year old',\n",
              " '10 years',\n",
              " '10 years ago',\n",
              " '100',\n",
              " '100 000',\n",
              " '100 billion',\n",
              " '100 days',\n",
              " '100 million',\n",
              " '100 percent',\n",
              " '100 years',\n",
              " '1000',\n",
              " '101',\n",
              " '104',\n",
              " '105',\n",
              " '10th',\n",
              " '11',\n",
              " '11 000',\n",
              " '11 02',\n",
              " '11 03',\n",
              " '11 03 2016',\n",
              " '11 12',\n",
              " '11 16',\n",
              " '11 2001',\n",
              " '11 2016',\n",
              " '11 attacks',\n",
              " '11 days',\n",
              " '11 et',\n",
              " '11 et author',\n",
              " '11 hour',\n",
              " '11 million',\n",
              " '11 million undocumented',\n",
              " '11 not',\n",
              " '11 percent',\n",
              " '11 states',\n",
              " '11 year',\n",
              " '11 years',\n",
              " '110',\n",
              " '112',\n",
              " '116',\n",
              " '11th',\n",
              " '12',\n",
              " '12 000',\n",
              " '12 2016',\n",
              " '12 million',\n",
              " '12 months',\n",
              " '12 people',\n",
              " '12 percent',\n",
              " '12 year',\n",
              " '12 year old',\n",
              " '12 years',\n",
              " '120',\n",
              " '125',\n",
              " '129',\n",
              " '12th',\n",
              " '13',\n",
              " '13 000',\n",
              " '13 2016',\n",
              " '13 million',\n",
              " '13 percent',\n",
              " '13 points',\n",
              " '13 year',\n",
              " '13 years',\n",
              " '130',\n",
              " '131',\n",
              " '131 quotes',\n",
              " '131 quotes two',\n",
              " '135',\n",
              " '13th',\n",
              " '14',\n",
              " '14 2012',\n",
              " '14 2016',\n",
              " '14 million',\n",
              " '14 people',\n",
              " '14 percent',\n",
              " '14 points',\n",
              " '14 years',\n",
              " '140',\n",
              " '143',\n",
              " '144',\n",
              " '14th',\n",
              " '14th amendment',\n",
              " '15',\n",
              " '15 000',\n",
              " '15 20',\n",
              " '15 2016',\n",
              " '15 billion',\n",
              " '15 hour',\n",
              " '15 million',\n",
              " '15 minimum',\n",
              " '15 minimum wage',\n",
              " '15 minutes',\n",
              " '15 percent',\n",
              " '15 states',\n",
              " '15 year',\n",
              " '15 year old',\n",
              " '15 years',\n",
              " '15 years ago',\n",
              " '150',\n",
              " '150 000',\n",
              " '155',\n",
              " '15th',\n",
              " '16',\n",
              " '16 2016',\n",
              " '16 percent',\n",
              " '16 states',\n",
              " '16 trump',\n",
              " '16 year',\n",
              " '16 year old',\n",
              " '16 years',\n",
              " '160',\n",
              " '16s',\n",
              " '16th',\n",
              " '17',\n",
              " '17 million',\n",
              " '17 percent',\n",
              " '17 year',\n",
              " '17 year old',\n",
              " '17 years',\n",
              " '170',\n",
              " '18',\n",
              " '18 2016',\n",
              " '18 million',\n",
              " '18 months',\n",
              " '18 percent',\n",
              " '18 year',\n",
              " '18 year old',\n",
              " '18 years',\n",
              " '180',\n",
              " '1800',\n",
              " '1806',\n",
              " '181',\n",
              " '1851',\n",
              " '19',\n",
              " '19 percent',\n",
              " '19 year',\n",
              " '19 year old',\n",
              " '190',\n",
              " '1910',\n",
              " '1914',\n",
              " '1920',\n",
              " '1920s',\n",
              " '1929',\n",
              " '1930s',\n",
              " '1937',\n",
              " '1938',\n",
              " '1939',\n",
              " '1940s',\n",
              " '1945',\n",
              " '1946',\n",
              " '1947',\n",
              " '1948',\n",
              " '1948 war',\n",
              " '1950',\n",
              " '1950s',\n",
              " '1952',\n",
              " '1953',\n",
              " '1956',\n",
              " '1960',\n",
              " '1960s',\n",
              " '1961',\n",
              " '1962',\n",
              " '1963',\n",
              " '1964',\n",
              " '1965',\n",
              " '1967',\n",
              " '1968',\n",
              " '1969',\n",
              " '1970',\n",
              " '1970s',\n",
              " '1971',\n",
              " '1972',\n",
              " '1973',\n",
              " '1974',\n",
              " '1975',\n",
              " '1976',\n",
              " '1977',\n",
              " '1978',\n",
              " '1979',\n",
              " '1980',\n",
              " '1980 october',\n",
              " '1980 october surprise',\n",
              " '1980s',\n",
              " '1981',\n",
              " '1982',\n",
              " '1983',\n",
              " '1984',\n",
              " '1985',\n",
              " '1986',\n",
              " '1987',\n",
              " '1988',\n",
              " '1989',\n",
              " '1990',\n",
              " '1990s',\n",
              " '1991',\n",
              " '1992',\n",
              " '1993',\n",
              " '1994',\n",
              " '1995',\n",
              " '1996',\n",
              " '1997',\n",
              " '1998',\n",
              " '1998 clinton',\n",
              " '1999',\n",
              " '19th',\n",
              " '19th century',\n",
              " '1st',\n",
              " '20',\n",
              " '20 000',\n",
              " '20 million',\n",
              " '20 minutes',\n",
              " '20 people',\n",
              " '20 percent',\n",
              " '20 points',\n",
              " '20 trillion',\n",
              " '20 year',\n",
              " '20 years',\n",
              " '20 years ago',\n",
              " '200',\n",
              " '200 000',\n",
              " '200 e1476824046577',\n",
              " '200 e1476824046577 jpg',\n",
              " '200 million',\n",
              " '200 years',\n",
              " '2000',\n",
              " '2000 years',\n",
              " '2000s',\n",
              " '2001',\n",
              " '2002',\n",
              " '2003',\n",
              " '2003 invasion',\n",
              " '2004',\n",
              " '2005',\n",
              " '2005 levels',\n",
              " '2006',\n",
              " '2007',\n",
              " '2008',\n",
              " '2008 2012',\n",
              " '2008 campaign',\n",
              " '2008 clinton',\n",
              " '2008 democratic',\n",
              " '2008 financial',\n",
              " '2008 financial crisis',\n",
              " '2008 presidential',\n",
              " '2008 primary',\n",
              " '2009',\n",
              " '2010',\n",
              " '2010 2012',\n",
              " '2011',\n",
              " '2011 present',\n",
              " '2012',\n",
              " '2012 attacks',\n",
              " '2012 campaign',\n",
              " '2012 election',\n",
              " '2012 gop',\n",
              " '2012 nominee',\n",
              " '2012 presidential',\n",
              " '2012 republican',\n",
              " '2012 romney',\n",
              " '2013',\n",
              " '2013 2014',\n",
              " '2014',\n",
              " '2014 2015',\n",
              " '2014 according',\n",
              " '2015',\n",
              " '2015 10',\n",
              " '2015 10 brainforce',\n",
              " '2015 2016',\n",
              " '2015 according',\n",
              " '2015 clinton',\n",
              " '2015 email',\n",
              " '2015 new',\n",
              " '2015 present',\n",
              " '2016',\n",
              " '2016 10',\n",
              " '2016 11',\n",
              " '2016 12',\n",
              " '2016 bid',\n",
              " '2016 campaign',\n",
              " '2016 candidates',\n",
              " '2016 clinton',\n",
              " '2016 comments',\n",
              " '2016 daniel',\n",
              " '2016 daniel greenfield',\n",
              " '2016 democratic',\n",
              " '2016 donald',\n",
              " '2016 donald trump',\n",
              " '2016 election',\n",
              " '2016 election perspective',\n",
              " '2016 elections',\n",
              " '2016 field',\n",
              " '2016 fort',\n",
              " '2016 fort russ',\n",
              " '2016 gold',\n",
              " '2016 gold kwn',\n",
              " '2016 gop',\n",
              " '2016 hillary',\n",
              " '2016 hillary clinton',\n",
              " '2016 information',\n",
              " '2016 information clearing',\n",
              " '2016 new',\n",
              " '2016 not',\n",
              " '2016 photo',\n",
              " '2016 president',\n",
              " '2016 presidential',\n",
              " '2016 presidential campaign',\n",
              " '2016 presidential election',\n",
              " '2016 presidential race',\n",
              " '2016 previous',\n",
              " '2016 previous post',\n",
              " '2016 race',\n",
              " '2016 republican',\n",
              " '2016 republican presidential',\n",
              " '2016 share',\n",
              " '2016 source',\n",
              " '2016 subscribe',\n",
              " '2016 trump',\n",
              " '2016 would',\n",
              " '2017',\n",
              " '2017 could',\n",
              " '2017 could sweeping',\n",
              " '2018',\n",
              " '202',\n",
              " '2020',\n",
              " '2025',\n",
              " '2030',\n",
              " '2050',\n",
              " '20s',\n",
              " '20th',\n",
              " '20th century',\n",
              " '21',\n",
              " '21 2016',\n",
              " '21 formally',\n",
              " '21 formally announced',\n",
              " '21 million',\n",
              " '21 percent',\n",
              " '21 st',\n",
              " '21 st century',\n",
              " '21 year',\n",
              " '21 year old',\n",
              " '215',\n",
              " '218',\n",
              " '21st',\n",
              " '21st century',\n",
              " '22',\n",
              " '22 2006',\n",
              " '22 2015',\n",
              " '22 2016',\n",
              " '22 3a',\n",
              " '22 46',\n",
              " '22 46 flip',\n",
              " '22 percent',\n",
              " '220',\n",
              " '224',\n",
              " '225',\n",
              " '225 000',\n",
              " '23',\n",
              " '23 2016',\n",
              " '23 percent',\n",
              " '23 year',\n",
              " '23 year old',\n",
              " '230',\n",
              " '232',\n",
              " '232 photos',\n",
              " '232 photos 43',\n",
              " '234',\n",
              " '237',\n",
              " '237 delegates',\n",
              " '237 delegates needed',\n",
              " '24',\n",
              " '24 2016',\n",
              " '24 hour',\n",
              " '24 hours',\n",
              " '24 percent',\n",
              " '24 year',\n",
              " '24 year old',\n",
              " '24 years',\n",
              " '240',\n",
              " '241',\n",
              " '246',\n",
              " '247',\n",
              " '24th',\n",
              " '25',\n",
              " '25 000',\n",
              " '25 200',\n",
              " '25 200 e1476824046577',\n",
              " '25 2016',\n",
              " '25 30',\n",
              " '25 34',\n",
              " '25 34 95',\n",
              " '25 million',\n",
              " '25 people',\n",
              " '25 percent',\n",
              " '25 year',\n",
              " '25 year old',\n",
              " '25 years',\n",
              " '250',\n",
              " '250 000',\n",
              " '25th',\n",
              " '26',\n",
              " '26 10',\n",
              " '26 10 2016',\n",
              " '26 2016',\n",
              " '26 million',\n",
              " '26 oct',\n",
              " '26 oct 2016',\n",
              " '26 percent',\n",
              " '26 year',\n",
              " '26 year old',\n",
              " '260',\n",
              " '269',\n",
              " '26th',\n",
              " '27',\n",
              " '27 2016',\n",
              " '27 percent',\n",
              " '27 year',\n",
              " '27 year old',\n",
              " '270',\n",
              " '270 electoral',\n",
              " '270 electoral votes',\n",
              " '275',\n",
              " '275 000',\n",
              " '27th',\n",
              " '28',\n",
              " '28 2016',\n",
              " '28 percent',\n",
              " '28 year',\n",
              " '28th',\n",
              " '29',\n",
              " '29 2016',\n",
              " '29 percent',\n",
              " '29 year',\n",
              " '2c',\n",
              " '2nd',\n",
              " '30',\n",
              " '30 000',\n",
              " '30 000 emails',\n",
              " '30 2016',\n",
              " '30 40',\n",
              " '30 days',\n",
              " '30 hours',\n",
              " '30 miles',\n",
              " '30 million',\n",
              " '30 minutes',\n",
              " '30 percent',\n",
              " '30 year',\n",
              " '30 years',\n",
              " '300',\n",
              " '300 000',\n",
              " '300 million',\n",
              " '300 people',\n",
              " '30s',\n",
              " '30th',\n",
              " '31',\n",
              " '31 2015',\n",
              " '31 2016',\n",
              " '31 people',\n",
              " '31 percent',\n",
              " '31st',\n",
              " '32',\n",
              " '32 percent',\n",
              " '320',\n",
              " '33',\n",
              " '33 000',\n",
              " '33 percent',\n",
              " '34',\n",
              " '34 95',\n",
              " '34 95 22',\n",
              " '34 percent',\n",
              " '34 states',\n",
              " '35',\n",
              " '35 000',\n",
              " '35 percent',\n",
              " '35 years',\n",
              " '350',\n",
              " '36',\n",
              " '36 percent',\n",
              " '360',\n",
              " '37',\n",
              " '37 percent',\n",
              " '38',\n",
              " '38 percent',\n",
              " '383',\n",
              " '39',\n",
              " '39 percent',\n",
              " '3a',\n",
              " '3rd',\n",
              " '40',\n",
              " '40 000',\n",
              " '40 hours',\n",
              " '40 miles',\n",
              " '40 million',\n",
              " '40 percent',\n",
              " '40 year',\n",
              " '40 years',\n",
              " '400',\n",
              " '400 000',\n",
              " '400 million',\n",
              " '40s',\n",
              " '41',\n",
              " '41 percent',\n",
              " '42',\n",
              " '42 percent',\n",
              " '4202',\n",
              " '43',\n",
              " '43 numbers',\n",
              " '43 numbers 131',\n",
              " '43 percent',\n",
              " '44',\n",
              " '44 percent',\n",
              " '45',\n",
              " '45 million',\n",
              " '45 minutes',\n",
              " '45 percent',\n",
              " '45 years',\n",
              " '450',\n",
              " '45th',\n",
              " '45th president',\n",
              " '46',\n",
              " '46 flip',\n",
              " '46 flip switch',\n",
              " '46 percent',\n",
              " '47',\n",
              " '47 percent',\n",
              " '48',\n",
              " '48 hours',\n",
              " '48 percent',\n",
              " '49',\n",
              " '49 people',\n",
              " '49 percent',\n",
              " '4th',\n",
              " '50',\n",
              " '50 000',\n",
              " '50 50',\n",
              " '50 billion',\n",
              " '50 million',\n",
              " '50 percent',\n",
              " '50 states',\n",
              " '50 years',\n",
              " '50 years ago',\n",
              " '500',\n",
              " '500 000',\n",
              " '500 billion',\n",
              " '500 million',\n",
              " '501',\n",
              " '51',\n",
              " '51 percent',\n",
              " '52',\n",
              " '52 percent',\n",
              " '53',\n",
              " '53 percent',\n",
              " '54',\n",
              " '54 percent',\n",
              " '55',\n",
              " '55 000',\n",
              " '55 percent',\n",
              " '56',\n",
              " '56 percent',\n",
              " '57',\n",
              " '57 percent',\n",
              " '58',\n",
              " '58 percent',\n",
              " '59',\n",
              " '59 percent',\n",
              " '5th',\n",
              " '60',\n",
              " '60 000',\n",
              " '60 days',\n",
              " '60 miles',\n",
              " '60 minutes',\n",
              " '60 percent',\n",
              " '60 votes',\n",
              " '60 years',\n",
              " '600',\n",
              " '600 000',\n",
              " '60s',\n",
              " '61',\n",
              " '61 percent',\n",
              " '62',\n",
              " '62 percent',\n",
              " '63',\n",
              " '63 percent',\n",
              " '64',\n",
              " '64 percent',\n",
              " '65',\n",
              " '65 000',\n",
              " '65 percent',\n",
              " '650',\n",
              " '650 000',\n",
              " '650 000 emails',\n",
              " '66',\n",
              " '66 percent',\n",
              " '67',\n",
              " '67 percent',\n",
              " '675',\n",
              " '675 000',\n",
              " '68',\n",
              " '68 percent',\n",
              " '69',\n",
              " '6th',\n",
              " '70',\n",
              " '70 000',\n",
              " '70 percent',\n",
              " '70 years',\n",
              " '700',\n",
              " '700 000',\n",
              " '70s',\n",
              " '71',\n",
              " '72',\n",
              " '72 percent',\n",
              " '73',\n",
              " '73 percent',\n",
              " '74',\n",
              " '75',\n",
              " '75 000',\n",
              " '75 percent',\n",
              " '750',\n",
              " '750 000',\n",
              " '76',\n",
              " '76 percent',\n",
              " '76ers',\n",
              " '77',\n",
              " '77 percent',\n",
              " '777',\n",
              " '78',\n",
              " '79',\n",
              " '79 percent',\n",
              " '7th',\n",
              " '80',\n",
              " '80 000',\n",
              " '80 percent',\n",
              " '80 years',\n",
              " '800',\n",
              " '800 000',\n",
              " '804',\n",
              " '80s',\n",
              " '81',\n",
              " '82',\n",
              " '82 percent',\n",
              " '83',\n",
              " '84',\n",
              " '85',\n",
              " '85 percent',\n",
              " '86',\n",
              " '864',\n",
              " '87',\n",
              " '88',\n",
              " '89',\n",
              " '8th',\n",
              " '90',\n",
              " '90 minutes',\n",
              " '90 percent',\n",
              " '900',\n",
              " '900 000',\n",
              " '90s',\n",
              " '91',\n",
              " '911',\n",
              " '92',\n",
              " '93',\n",
              " '94',\n",
              " '95',\n",
              " '95 22',\n",
              " '95 22 46',\n",
              " '95 percent',\n",
              " '96',\n",
              " '97',\n",
              " '98',\n",
              " '99',\n",
              " '99 percent',\n",
              " '9th',\n",
              " 'a320',\n",
              " 'aa',\n",
              " 'aap',\n",
              " 'aaron',\n",
              " 'abadi',\n",
              " 'abandon',\n",
              " 'abandoned',\n",
              " 'abandoning',\n",
              " 'abandons',\n",
              " 'abbas',\n",
              " 'abbott',\n",
              " 'abby',\n",
              " 'abby phillip',\n",
              " 'abc',\n",
              " 'abc news',\n",
              " 'abc news poll',\n",
              " 'abc news washington',\n",
              " 'abc poll',\n",
              " 'abcis',\n",
              " 'abcis week',\n",
              " 'abdel',\n",
              " 'abdeslam',\n",
              " 'abduction',\n",
              " 'abdul',\n",
              " 'abdulazeez',\n",
              " 'abdullah',\n",
              " 'abe',\n",
              " 'abedin',\n",
              " 'abedin emails',\n",
              " 'abedin weiner',\n",
              " 'abhorrent',\n",
              " 'abide',\n",
              " 'abiding',\n",
              " 'abilities',\n",
              " 'ability',\n",
              " 'ability make',\n",
              " 'abject',\n",
              " 'able',\n",
              " 'able control',\n",
              " 'able find',\n",
              " 'able get',\n",
              " 'able hold',\n",
              " 'able make',\n",
              " 'able win',\n",
              " 'abnormal',\n",
              " 'aboard',\n",
              " 'abolish',\n",
              " 'abolishing',\n",
              " 'aboriginal',\n",
              " 'aborigine',\n",
              " 'aborted',\n",
              " 'abortion',\n",
              " 'abortion clinics',\n",
              " 'abortion providers',\n",
              " 'abortion rights',\n",
              " 'abortions',\n",
              " 'abraham',\n",
              " 'abraham lincoln',\n",
              " 'abramowitz',\n",
              " 'abroad',\n",
              " 'abruptly',\n",
              " 'absence',\n",
              " 'absent',\n",
              " 'absentee',\n",
              " 'absentee ballots',\n",
              " 'absolute',\n",
              " 'absolutely',\n",
              " 'absolutely no',\n",
              " 'absolutely not',\n",
              " 'absolutely nothing',\n",
              " 'absorb',\n",
              " 'absorbed',\n",
              " 'abstract',\n",
              " 'abstraction',\n",
              " 'absurd',\n",
              " 'absurdity',\n",
              " 'absurdly',\n",
              " 'abu',\n",
              " 'abu bakr',\n",
              " 'abu bakr al',\n",
              " 'abundance',\n",
              " 'abundantly',\n",
              " 'abundantly clear',\n",
              " 'abuse',\n",
              " 'abuse power',\n",
              " 'abused',\n",
              " 'abuses',\n",
              " 'abusing',\n",
              " 'abusive',\n",
              " 'abyss',\n",
              " 'ac',\n",
              " 'aca',\n",
              " 'academia',\n",
              " 'academic',\n",
              " 'academics',\n",
              " 'academy',\n",
              " 'accelerate',\n",
              " 'accelerated',\n",
              " 'accelerating',\n",
              " 'accent',\n",
              " 'accept',\n",
              " 'accept results',\n",
              " 'acceptable',\n",
              " 'acceptance',\n",
              " 'acceptance speech',\n",
              " 'accepted',\n",
              " 'accepting',\n",
              " 'accepts',\n",
              " 'access',\n",
              " 'access data',\n",
              " 'access hollywood',\n",
              " 'access pipeline',\n",
              " 'access use',\n",
              " 'access use appreciate',\n",
              " 'accessed',\n",
              " 'accessible',\n",
              " 'accessing',\n",
              " 'accident',\n",
              " 'accidental',\n",
              " 'accidentally',\n",
              " 'accidents',\n",
              " 'accommodate',\n",
              " 'accommodation',\n",
              " 'accommodations',\n",
              " 'accompanied',\n",
              " 'accompany',\n",
              " 'accompanying',\n",
              " 'accomplice',\n",
              " 'accomplish',\n",
              " 'accomplished',\n",
              " 'accomplishment',\n",
              " 'accomplishments',\n",
              " 'accord',\n",
              " 'accordance',\n",
              " 'according',\n",
              " 'according analysis',\n",
              " 'according ap',\n",
              " 'according associated',\n",
              " 'according associated press',\n",
              " 'according census',\n",
              " 'according cnn',\n",
              " 'according court',\n",
              " 'according data',\n",
              " 'according exit',\n",
              " 'according exit polls',\n",
              " 'according former',\n",
              " 'according gallup',\n",
              " 'according latest',\n",
              " 'according law',\n",
              " 'according law enforcement',\n",
              " 'according local',\n",
              " 'according national',\n",
              " 'according nbc',\n",
              " 'according new',\n",
              " 'according new york',\n",
              " 'according news',\n",
              " 'according official',\n",
              " 'according officials',\n",
              " 'according one',\n",
              " 'according people',\n",
              " 'according people familiar',\n",
              " 'according person',\n",
              " 'according pew',\n",
              " 'according pew research',\n",
              " 'according police',\n",
              " 'according politico',\n",
              " 'according poll',\n",
              " 'according realclearpolitics',\n",
              " 'according recent',\n",
              " 'according report',\n",
              " 'according report released',\n",
              " 'according reports',\n",
              " 'according reuters',\n",
              " 'according source',\n",
              " 'according sources',\n",
              " 'according state',\n",
              " 'according statement',\n",
              " 'according times',\n",
              " 'according two',\n",
              " 'according wall',\n",
              " 'according wall street',\n",
              " 'according washington',\n",
              " 'according washington post',\n",
              " 'according white',\n",
              " 'according white house',\n",
              " 'accordingly',\n",
              " 'account',\n",
              " 'account surplus',\n",
              " 'account surpluses',\n",
              " 'accountability',\n",
              " 'accountable',\n",
              " 'accountants',\n",
              " 'accounted',\n",
              " 'accounting',\n",
              " 'accounts',\n",
              " 'accumulate',\n",
              " 'accumulated',\n",
              " 'accuracy',\n",
              " 'accurate',\n",
              " 'accurately',\n",
              " 'accusation',\n",
              " 'accusations',\n",
              " 'accuse',\n",
              " 'accused',\n",
              " 'accused republicans',\n",
              " 'accused russia',\n",
              " 'accused sexual',\n",
              " 'accused trump',\n",
              " 'accusers',\n",
              " 'accuses',\n",
              " 'accusing',\n",
              " 'accustomed',\n",
              " 'achieve',\n",
              " 'achieved',\n",
              " 'achievement',\n",
              " 'achievements',\n",
              " 'achieving',\n",
              " 'acid',\n",
              " 'acknowledge',\n",
              " 'acknowledged',\n",
              " 'acknowledges',\n",
              " 'acknowledging',\n",
              " 'acknowledgment',\n",
              " 'aclu',\n",
              " 'acquire',\n",
              " 'acquired',\n",
              " 'acquiring',\n",
              " 'acquisition',\n",
              " 'acquisitions',\n",
              " 'acquittal',\n",
              " 'acquitted',\n",
              " 'acres',\n",
              " 'acronym',\n",
              " 'across',\n",
              " 'across aisle',\n",
              " 'across america',\n",
              " 'across board',\n",
              " 'across border',\n",
              " 'across country',\n",
              " 'across europe',\n",
              " 'across globe',\n",
              " 'across nation',\n",
              " 'across party',\n",
              " 'across political',\n",
              " 'across political spectrum',\n",
              " 'across state',\n",
              " 'across street',\n",
              " 'across united',\n",
              " 'across united states',\n",
              " 'across us',\n",
              " 'across world',\n",
              " 'act',\n",
              " 'act bill',\n",
              " 'act like',\n",
              " 'act terrorism',\n",
              " 'act would',\n",
              " 'acted',\n",
              " 'acting',\n",
              " 'acting like',\n",
              " 'action',\n",
              " 'action childhood',\n",
              " 'action childhood arrivals',\n",
              " 'action committee',\n",
              " 'action conference',\n",
              " 'action could',\n",
              " 'action would',\n",
              " 'actions',\n",
              " 'actions immigration',\n",
              " 'actions may',\n",
              " 'actions not',\n",
              " ...]"
            ]
          },
          "metadata": {
            "tags": []
          },
          "execution_count": 23
        }
      ]
    },
    {
      "cell_type": "code",
      "metadata": {
        "id": "d__uTdyUNwSo",
        "colab": {
          "base_uri": "https://localhost:8080/",
          "height": 1000
        },
        "outputId": "cbfb7e87-e726-4950-f180-2137a51b3b5a"
      },
      "source": [
        "from sklearn.linear_model import LogisticRegression\n",
        "from sklearn.metrics import confusion_matrix\n",
        "from sklearn.metrics import classification_report\n",
        "from sklearn.model_selection import GridSearchCV\n",
        "import math\n",
        "import matplotlib.pyplot as plt\n",
        "\n",
        "classifier_LR = LogisticRegression(class_weight='balanced')\n",
        "\n",
        "param_LR = {'C' : [0.001,0.01,0.1,1,10,100,1000,10000]}\n",
        "\n",
        "clf = GridSearchCV(classifier_LR,param_LR,cv=3,scoring='accuracy',return_train_score=True,verbose=2)\n",
        "\n",
        "clf.fit(X_train_tfidf,y_train)\n",
        "results = pd.DataFrame.from_dict(clf.cv_results_)\n",
        "\n",
        "train_accuracy = results['mean_train_score']\n",
        "cv_accuracy = results['mean_test_score']\n",
        "hyperparameter = results['param_C']\n",
        "\n",
        "log_c_LR = []\n",
        "for i in hyperparameter:\n",
        "    x = math.log(i)\n",
        "    log_c_LR.append(x)\n",
        "\n",
        "plt.figure()\n",
        "plt.figure(figsize=(10,8))\n",
        "plt.plot(log_c_LR,train_accuracy,label=\"Train Accuracy\")\n",
        "plt.plot(log_c_LR,cv_accuracy,label=\"Test Accuracy\")\n",
        "plt.scatter(log_c_LR,train_accuracy,label=\"Train Points\")\n",
        "plt.scatter(log_c_LR,cv_accuracy,label=\"Test Points\")\n",
        "plt.legend()\n",
        "plt.xlabel(\"Hyperparameter\")\n",
        "plt.ylabel(\"Accuracy\")\n",
        "plt.title(\"Hyperparameter c VS Accuracy\")\n",
        "plt.show()\n",
        "\n",
        "best_hyperparameter = clf.best_params_\n",
        "print(\"=\"*100)\n",
        "print(\"best_hyperparameter :\",best_hyperparameter)\n",
        "print(\"=\"*100)\n"
      ],
      "execution_count": 24,
      "outputs": [
        {
          "output_type": "stream",
          "text": [
            "Fitting 3 folds for each of 8 candidates, totalling 24 fits\n",
            "[CV] C=0.001 .........................................................\n",
            "[CV] .......................................... C=0.001, total=   0.1s\n",
            "[CV] C=0.001 .........................................................\n",
            "[CV] .......................................... C=0.001, total=   0.1s\n",
            "[CV] C=0.001 .........................................................\n"
          ],
          "name": "stdout"
        },
        {
          "output_type": "stream",
          "text": [
            "[Parallel(n_jobs=1)]: Using backend SequentialBackend with 1 concurrent workers.\n",
            "[Parallel(n_jobs=1)]: Done   1 out of   1 | elapsed:    0.1s remaining:    0.0s\n"
          ],
          "name": "stderr"
        },
        {
          "output_type": "stream",
          "text": [
            "[CV] .......................................... C=0.001, total=   0.1s\n",
            "[CV] C=0.01 ..........................................................\n",
            "[CV] ........................................... C=0.01, total=   0.1s\n",
            "[CV] C=0.01 ..........................................................\n",
            "[CV] ........................................... C=0.01, total=   0.1s\n",
            "[CV] C=0.01 ..........................................................\n",
            "[CV] ........................................... C=0.01, total=   0.1s\n",
            "[CV] C=0.1 ...........................................................\n",
            "[CV] ............................................ C=0.1, total=   0.2s\n",
            "[CV] C=0.1 ...........................................................\n",
            "[CV] ............................................ C=0.1, total=   0.3s\n",
            "[CV] C=0.1 ...........................................................\n",
            "[CV] ............................................ C=0.1, total=   0.3s\n",
            "[CV] C=1 .............................................................\n",
            "[CV] .............................................. C=1, total=   0.6s\n",
            "[CV] C=1 .............................................................\n",
            "[CV] .............................................. C=1, total=   0.3s\n",
            "[CV] C=1 .............................................................\n",
            "[CV] .............................................. C=1, total=   0.3s\n",
            "[CV] C=10 ............................................................\n",
            "[CV] ............................................. C=10, total=   0.8s\n",
            "[CV] C=10 ............................................................\n",
            "[CV] ............................................. C=10, total=   0.7s\n",
            "[CV] C=10 ............................................................\n",
            "[CV] ............................................. C=10, total=   0.7s\n",
            "[CV] C=100 ...........................................................\n",
            "[CV] ............................................ C=100, total=   1.1s\n",
            "[CV] C=100 ...........................................................\n",
            "[CV] ............................................ C=100, total=   1.2s\n",
            "[CV] C=100 ...........................................................\n",
            "[CV] ............................................ C=100, total=   1.2s\n",
            "[CV] C=1000 ..........................................................\n",
            "[CV] ........................................... C=1000, total=   1.2s\n",
            "[CV] C=1000 ..........................................................\n",
            "[CV] ........................................... C=1000, total=   1.2s\n",
            "[CV] C=1000 ..........................................................\n",
            "[CV] ........................................... C=1000, total=   1.1s\n",
            "[CV] C=10000 .........................................................\n",
            "[CV] .......................................... C=10000, total=   1.2s\n",
            "[CV] C=10000 .........................................................\n",
            "[CV] .......................................... C=10000, total=   1.2s\n",
            "[CV] C=10000 .........................................................\n",
            "[CV] .......................................... C=10000, total=   1.1s\n"
          ],
          "name": "stdout"
        },
        {
          "output_type": "stream",
          "text": [
            "[Parallel(n_jobs=1)]: Done  24 out of  24 | elapsed:   15.4s finished\n"
          ],
          "name": "stderr"
        },
        {
          "output_type": "display_data",
          "data": {
            "text/plain": [
              "<Figure size 432x288 with 0 Axes>"
            ]
          },
          "metadata": {
            "tags": []
          }
        },
        {
          "output_type": "display_data",
          "data": {
            "image/png": "[encoded data removed]",
            "text/plain": [
              "<Figure size 720x576 with 1 Axes>"
            ]
          },
          "metadata": {
            "tags": [],
            "needs_background": "light"
          }
        },
        {
          "output_type": "stream",
          "text": [
            "====================================================================================================\n",
            "best_hyperparameter : {'C': 10000}\n",
            "====================================================================================================\n"
          ],
          "name": "stdout"
        }
      ]
    },
    {
      "cell_type": "code",
      "metadata": {
        "id": "w_aA4Z9MN1la",
        "colab": {
          "base_uri": "https://localhost:8080/"
        },
        "outputId": "eb96115e-8151-4eb4-8dd4-11897c8ac7a8"
      },
      "source": [
        "classifier_LR = LogisticRegression(C=1000,class_weight='balanced')\n",
        "classifier_LR.fit(X_train_tfidf,y_train)\n",
        "y_pred = classifier_LR.predict(X_test_tfidf)\n",
        "confusion = confusion_matrix(y_test,y_pred)\n",
        "\n",
        "print(\"Confusion matrix \\n\")\n",
        "print(confusion)\n",
        "\n",
        "print(\"Classification Report \\n\")\n",
        "print(classification_report(y_test,y_pred,target_names=['REAL', 'FAKE']))"
      ],
      "execution_count": 25,
      "outputs": [
        {
          "output_type": "stream",
          "text": [
            "Confusion matrix \n",
            "\n",
            "[[905  44]\n",
            " [ 51 901]]\n",
            "Classification Report \n",
            "\n",
            "              precision    recall  f1-score   support\n",
            "\n",
            "        REAL       0.95      0.95      0.95       949\n",
            "        FAKE       0.95      0.95      0.95       952\n",
            "\n",
            "    accuracy                           0.95      1901\n",
            "   macro avg       0.95      0.95      0.95      1901\n",
            "weighted avg       0.95      0.95      0.95      1901\n",
            "\n"
          ],
          "name": "stdout"
        }
      ]
    },
    {
      "cell_type": "markdown",
      "metadata": {
        "id": "VpFGe2uLkcmG"
      },
      "source": [
        "Using Logistic Regression, getting 95% acccuracy"
      ]
    },
    {
      "cell_type": "markdown",
      "metadata": {
        "id": "MBlhJiXdZo8Y"
      },
      "source": [
        "**Naive Bayes**"
      ]
    },
    {
      "cell_type": "code",
      "metadata": {
        "id": "t6x8p3xaYb1K",
        "colab": {
          "base_uri": "https://localhost:8080/"
        },
        "outputId": "3180e47c-f56d-4362-c3c3-3b1aadffeab6"
      },
      "source": [
        "from sklearn.linear_model import LogisticRegression\n",
        "from sklearn.metrics import confusion_matrix\n",
        "from sklearn.metrics import classification_report\n",
        "from sklearn.model_selection import GridSearchCV\n",
        "import math\n",
        "import matplotlib.pyplot as plt\n",
        "from sklearn.naive_bayes import MultinomialNB\n",
        "from xgboost import XGBClassifier\n",
        "\n",
        "classifier_NB = MultinomialNB()\n",
        "\n",
        "classifier_NB.fit(X_train_tfidf,y_train)\n"
      ],
      "execution_count": 26,
      "outputs": [
        {
          "output_type": "execute_result",
          "data": {
            "text/plain": [
              "MultinomialNB(alpha=1.0, class_prior=None, fit_prior=True)"
            ]
          },
          "metadata": {
            "tags": []
          },
          "execution_count": 26
        }
      ]
    },
    {
      "cell_type": "code",
      "metadata": {
        "id": "e5EVU0OJb8DC",
        "colab": {
          "base_uri": "https://localhost:8080/"
        },
        "outputId": "b94e4cf2-b2d6-4c3e-ad53-831ddc2e4a25"
      },
      "source": [
        "from sklearn.naive_bayes import MultinomialNB\n",
        "classifier_NB = MultinomialNB()\n",
        "from sklearn.metrics import log_loss\n",
        "classifier_NB.fit(X_train_tfidf,y_train)\n",
        "y_pred = classifier_NB.predict(X_test_tfidf)\n",
        "\n",
        "print(\"Log Loss : \")\n",
        "print(log_loss(y_test,y_pred))\n",
        "print('------------------------------')\n",
        "print(\"confusion matrix:\")\n",
        "print(confusion_matrix(y_test, y_pred))\n",
        "\n",
        "print('------------------------------')\n",
        "print(\"classification report:\")\n",
        "print(classification_report(y_test, y_pred,\n",
        "                                            target_names=['Positive', 'Negative']))"
      ],
      "execution_count": 27,
      "outputs": [
        {
          "output_type": "stream",
          "text": [
            "Log Loss : \n",
            "2.8707115318713896\n",
            "------------------------------\n",
            "confusion matrix:\n",
            "[[829 120]\n",
            " [ 38 914]]\n",
            "------------------------------\n",
            "classification report:\n",
            "              precision    recall  f1-score   support\n",
            "\n",
            "    Positive       0.96      0.87      0.91       949\n",
            "    Negative       0.88      0.96      0.92       952\n",
            "\n",
            "    accuracy                           0.92      1901\n",
            "   macro avg       0.92      0.92      0.92      1901\n",
            "weighted avg       0.92      0.92      0.92      1901\n",
            "\n"
          ],
          "name": "stdout"
        }
      ]
    },
    {
      "cell_type": "markdown",
      "metadata": {
        "id": "69MKJeCHkq3p"
      },
      "source": [
        "Using Naive bayes algorithm, we are getting 92% accuracy"
      ]
    },
    {
      "cell_type": "code",
      "metadata": {
        "id": "LJRYlSrdc3Js",
        "colab": {
          "base_uri": "https://localhost:8080/"
        },
        "outputId": "31063742-31ad-440e-d058-378be10fd5f7"
      },
      "source": [
        "df_1.info()"
      ],
      "execution_count": 26,
      "outputs": [
        {
          "output_type": "stream",
          "text": [
            "<class 'pandas.core.frame.DataFrame'>\n",
            "RangeIndex: 6335 entries, 0 to 6334\n",
            "Data columns (total 2 columns):\n",
            " #   Column        Non-Null Count  Dtype \n",
            "---  ------        --------------  ----- \n",
            " 0   cleaned_text  6335 non-null   object\n",
            " 1   label         6335 non-null   object\n",
            "dtypes: object(2)\n",
            "memory usage: 99.1+ KB\n"
          ],
          "name": "stdout"
        }
      ]
    },
    {
      "cell_type": "markdown",
      "metadata": {
        "id": "AKpPm-8eZy73"
      },
      "source": [
        "**BERT**"
      ]
    },
    {
      "cell_type": "code",
      "metadata": {
        "id": "Gci-sz11dxdf",
        "colab": {
          "base_uri": "https://localhost:8080/",
          "height": 206
        },
        "outputId": "44815fc0-d6b0-444f-f83e-8688be2771ad"
      },
      "source": [
        "df1 = df_1[['cleaned_text','label']].sample(1000)\n",
        "df1.head()"
      ],
      "execution_count": 27,
      "outputs": [
        {
          "output_type": "execute_result",
          "data": {
            "text/html": [
              "<div>\n",
              "<style scoped>\n",
              "    .dataframe tbody tr th:only-of-type {\n",
              "        vertical-align: middle;\n",
              "    }\n",
              "\n",
              "    .dataframe tbody tr th {\n",
              "        vertical-align: top;\n",
              "    }\n",
              "\n",
              "    .dataframe thead th {\n",
              "        text-align: right;\n",
              "    }\n",
              "</style>\n",
              "<table border=\"1\" class=\"dataframe\">\n",
              "  <thead>\n",
              "    <tr style=\"text-align: right;\">\n",
              "      <th></th>\n",
              "      <th>cleaned_text</th>\n",
              "      <th>label</th>\n",
              "    </tr>\n",
              "  </thead>\n",
              "  <tbody>\n",
              "    <tr>\n",
              "      <th>3269</th>\n",
              "      <td>britain gunless bobbies provide answers americ...</td>\n",
              "      <td>REAL</td>\n",
              "    </tr>\n",
              "    <tr>\n",
              "      <th>5783</th>\n",
              "      <td>john boehneris parting gift paul ryan top dems...</td>\n",
              "      <td>REAL</td>\n",
              "    </tr>\n",
              "    <tr>\n",
              "      <th>426</th>\n",
              "      <td>momentum bar syrian refugees slows notable nam...</td>\n",
              "      <td>REAL</td>\n",
              "    </tr>\n",
              "    <tr>\n",
              "      <th>1718</th>\n",
              "      <td>comment wikileaks shocker clinton camp conside...</td>\n",
              "      <td>FAKE</td>\n",
              "    </tr>\n",
              "    <tr>\n",
              "      <th>537</th>\n",
              "      <td>yes clinton double standard anyone writing sen...</td>\n",
              "      <td>REAL</td>\n",
              "    </tr>\n",
              "  </tbody>\n",
              "</table>\n",
              "</div>"
            ],
            "text/plain": [
              "                                           cleaned_text label\n",
              "3269  britain gunless bobbies provide answers americ...  REAL\n",
              "5783  john boehneris parting gift paul ryan top dems...  REAL\n",
              "426   momentum bar syrian refugees slows notable nam...  REAL\n",
              "1718  comment wikileaks shocker clinton camp conside...  FAKE\n",
              "537   yes clinton double standard anyone writing sen...  REAL"
            ]
          },
          "metadata": {
            "tags": []
          },
          "execution_count": 27
        }
      ]
    },
    {
      "cell_type": "markdown",
      "metadata": {
        "id": "p4FDemN9aBJw"
      },
      "source": [
        "**Analysing average length for news**"
      ]
    },
    {
      "cell_type": "code",
      "metadata": {
        "id": "RiV4C8LVd_QT"
      },
      "source": [
        "seq_length = df_1['cleaned_text'].apply(lambda x :len(x.split()))"
      ],
      "execution_count": 28,
      "outputs": []
    },
    {
      "cell_type": "code",
      "metadata": {
        "id": "mqEvm6n_eKAy",
        "colab": {
          "base_uri": "https://localhost:8080/",
          "height": 513
        },
        "outputId": "b0f13d3f-2d24-43f1-a728-f2cc4494107f"
      },
      "source": [
        "plt.figure(figsize=(8,8))\n",
        "sns.distplot(seq_length,kde='True')\n",
        "plt.title(\"length of text distribution\")\n",
        "plt.xlabel(\"Sequence length\")\n",
        "plt.grid()\n",
        "plt.show()"
      ],
      "execution_count": 29,
      "outputs": [
        {
          "output_type": "display_data",
          "data": {
            "image/png": "[encoded data removed]",
            "text/plain": [
              "<Figure size 576x576 with 1 Axes>"
            ]
          },
          "metadata": {
            "tags": [],
            "needs_background": "light"
          }
        }
      ]
    },
    {
      "cell_type": "markdown",
      "metadata": {
        "id": "wEi7-xFlk0-V"
      },
      "source": [
        "Normal length for news means our each data point is around 2000 words"
      ]
    },
    {
      "cell_type": "code",
      "metadata": {
        "id": "wp8gvTy-eOHJ"
      },
      "source": [
        "SEQ_LEN = 256"
      ],
      "execution_count": 30,
      "outputs": []
    },
    {
      "cell_type": "code",
      "metadata": {
        "id": "XrU6FLjCebmM",
        "colab": {
          "base_uri": "https://localhost:8080/"
        },
        "outputId": "1fa64a67-2893-42b3-d88b-99e0067e8e2a"
      },
      "source": [
        "!pip install transformers"
      ],
      "execution_count": 31,
      "outputs": [
        {
          "output_type": "stream",
          "text": [
            "Requirement already satisfied: transformers in /usr/local/lib/python3.7/dist-packages (4.9.2)\n",
            "Requirement already satisfied: pyyaml>=5.1 in /usr/local/lib/python3.7/dist-packages (from transformers) (5.4.1)\n",
            "Requirement already satisfied: filelock in /usr/local/lib/python3.7/dist-packages (from transformers) (3.0.12)\n",
            "Requirement already satisfied: tokenizers<0.11,>=0.10.1 in /usr/local/lib/python3.7/dist-packages (from transformers) (0.10.3)\n",
            "Requirement already satisfied: requests in /usr/local/lib/python3.7/dist-packages (from transformers) (2.23.0)\n",
            "Requirement already satisfied: sacremoses in /usr/local/lib/python3.7/dist-packages (from transformers) (0.0.45)\n",
            "Requirement already satisfied: huggingface-hub==0.0.12 in /usr/local/lib/python3.7/dist-packages (from transformers) (0.0.12)\n",
            "Requirement already satisfied: tqdm>=4.27 in /usr/local/lib/python3.7/dist-packages (from transformers) (4.41.1)\n",
            "Requirement already satisfied: importlib-metadata in /usr/local/lib/python3.7/dist-packages (from transformers) (4.6.1)\n",
            "Requirement already satisfied: packaging in /usr/local/lib/python3.7/dist-packages (from transformers) (21.0)\n",
            "Requirement already satisfied: regex!=2019.12.17 in /usr/local/lib/python3.7/dist-packages (from transformers) (2019.12.20)\n",
            "Requirement already satisfied: numpy>=1.17 in /usr/local/lib/python3.7/dist-packages (from transformers) (1.19.5)\n",
            "Requirement already satisfied: typing-extensions in /usr/local/lib/python3.7/dist-packages (from huggingface-hub==0.0.12->transformers) (3.7.4.3)\n",
            "Requirement already satisfied: pyparsing>=2.0.2 in /usr/local/lib/python3.7/dist-packages (from packaging->transformers) (2.4.7)\n",
            "Requirement already satisfied: zipp>=0.5 in /usr/local/lib/python3.7/dist-packages (from importlib-metadata->transformers) (3.5.0)\n",
            "Requirement already satisfied: idna<3,>=2.5 in /usr/local/lib/python3.7/dist-packages (from requests->transformers) (2.10)\n",
            "Requirement already satisfied: chardet<4,>=3.0.2 in /usr/local/lib/python3.7/dist-packages (from requests->transformers) (3.0.4)\n",
            "Requirement already satisfied: certifi>=2017.4.17 in /usr/local/lib/python3.7/dist-packages (from requests->transformers) (2021.5.30)\n",
            "Requirement already satisfied: urllib3!=1.25.0,!=1.25.1,<1.26,>=1.21.1 in /usr/local/lib/python3.7/dist-packages (from requests->transformers) (1.24.3)\n",
            "Requirement already satisfied: joblib in /usr/local/lib/python3.7/dist-packages (from sacremoses->transformers) (1.0.1)\n",
            "Requirement already satisfied: six in /usr/local/lib/python3.7/dist-packages (from sacremoses->transformers) (1.15.0)\n",
            "Requirement already satisfied: click in /usr/local/lib/python3.7/dist-packages (from sacremoses->transformers) (7.1.2)\n"
          ],
          "name": "stdout"
        }
      ]
    },
    {
      "cell_type": "code",
      "metadata": {
        "id": "RbfblILeedrc"
      },
      "source": [
        "from transformers import BertTokenizer\n",
        "tokenizer = BertTokenizer.from_pretrained('bert-base-uncased')"
      ],
      "execution_count": 32,
      "outputs": []
    },
    {
      "cell_type": "code",
      "metadata": {
        "id": "YcyHJ1jOeifZ"
      },
      "source": [
        "def tokenize(sentence):\n",
        "  tokens = tokenizer.encode_plus(sentence,max_length=256,\n",
        "                                 truncation=True,padding='max_length',\n",
        "                                 add_special_tokens=True,\n",
        "                                 return_token_type_ids=False,\n",
        "                                 return_tensors='tf')\n",
        "  return tokens['input_ids'] , tokens['attention_mask']"
      ],
      "execution_count": 33,
      "outputs": []
    },
    {
      "cell_type": "code",
      "metadata": {
        "id": "GzNn3XBMerVU"
      },
      "source": [
        "Xids = np.zeros((len(df1),256))\n",
        "Xmask = np.zeros((len(df1),256))"
      ],
      "execution_count": 34,
      "outputs": []
    },
    {
      "cell_type": "code",
      "metadata": {
        "id": "XJytZAHwexom",
        "colab": {
          "base_uri": "https://localhost:8080/"
        },
        "outputId": "d5551314-c947-425b-b391-80e7e0279818"
      },
      "source": [
        "print(\"=\"*50)\n",
        "print(\"shape of X_ids:\",Xids.shape)\n",
        "print(\"-\"*50)\n",
        "print(\"shape of X_mask:\",Xids.shape)\n",
        "print(\"=\"*50)"
      ],
      "execution_count": 35,
      "outputs": [
        {
          "output_type": "stream",
          "text": [
            "==================================================\n",
            "shape of X_ids: (1000, 256)\n",
            "--------------------------------------------------\n",
            "shape of X_mask: (1000, 256)\n",
            "==================================================\n"
          ],
          "name": "stdout"
        }
      ]
    },
    {
      "cell_type": "code",
      "metadata": {
        "id": "ymVhgQ6se0FE"
      },
      "source": [
        "for i , sequence in enumerate(df1['cleaned_text']):\n",
        "  tokens = tokenize(sequence)\n",
        "  Xids[i , :] , Xmask[i, :] = tokens[0] , tokens[1]"
      ],
      "execution_count": 36,
      "outputs": []
    },
    {
      "cell_type": "code",
      "metadata": {
        "id": "3dUKMRe3e85S"
      },
      "source": [
        "labels = df1['label'].values"
      ],
      "execution_count": 37,
      "outputs": []
    },
    {
      "cell_type": "code",
      "metadata": {
        "id": "8UQV-v41fYQg",
        "colab": {
          "base_uri": "https://localhost:8080/"
        },
        "outputId": "c61c80ff-63fd-4550-fa65-5e42dc74d06c"
      },
      "source": [
        "labels = pd.get_dummies(df1['label'])\n",
        "print(labels.head())"
      ],
      "execution_count": 38,
      "outputs": [
        {
          "output_type": "stream",
          "text": [
            "      FAKE  REAL\n",
            "3269     0     1\n",
            "5783     0     1\n",
            "426      0     1\n",
            "1718     1     0\n",
            "537      0     1\n"
          ],
          "name": "stdout"
        }
      ]
    },
    {
      "cell_type": "code",
      "metadata": {
        "id": "KJSjfeVBMajx"
      },
      "source": [
        "labels=labels.values"
      ],
      "execution_count": 40,
      "outputs": []
    },
    {
      "cell_type": "code",
      "metadata": {
        "colab": {
          "base_uri": "https://localhost:8080/"
        },
        "id": "tBZGIfbzLsUB",
        "outputId": "ea98e764-408d-42a2-f8a2-119e1c13a4bf"
      },
      "source": [
        "type(labels)"
      ],
      "execution_count": 41,
      "outputs": [
        {
          "output_type": "execute_result",
          "data": {
            "text/plain": [
              "numpy.ndarray"
            ]
          },
          "metadata": {
            "tags": []
          },
          "execution_count": 41
        }
      ]
    },
    {
      "cell_type": "code",
      "metadata": {
        "colab": {
          "base_uri": "https://localhost:8080/"
        },
        "id": "RklR_2q7GwOp",
        "outputId": "d510d9e3-20a5-4df4-aa66-43cdbc03907d"
      },
      "source": [
        "labels"
      ],
      "execution_count": 42,
      "outputs": [
        {
          "output_type": "execute_result",
          "data": {
            "text/plain": [
              "array([[0, 1],\n",
              "       [0, 1],\n",
              "       [0, 1],\n",
              "       ...,\n",
              "       [1, 0],\n",
              "       [0, 1],\n",
              "       [1, 0]], dtype=uint8)"
            ]
          },
          "metadata": {
            "tags": []
          },
          "execution_count": 42
        }
      ]
    },
    {
      "cell_type": "code",
      "metadata": {
        "id": "9xyAzLGeffZv"
      },
      "source": [
        "import tensorflow as tf\n",
        "data = tf.data.Dataset.from_tensor_slices((Xids,Xmask,labels))"
      ],
      "execution_count": 43,
      "outputs": []
    },
    {
      "cell_type": "code",
      "metadata": {
        "id": "2EWX5f83fm83",
        "colab": {
          "base_uri": "https://localhost:8080/"
        },
        "outputId": "aae1c8c9-45bc-4ecb-8250-1dcb2e43099e"
      },
      "source": [
        "data"
      ],
      "execution_count": 44,
      "outputs": [
        {
          "output_type": "execute_result",
          "data": {
            "text/plain": [
              "<TensorSliceDataset shapes: ((256,), (256,), (2,)), types: (tf.float64, tf.float64, tf.uint8)>"
            ]
          },
          "metadata": {
            "tags": []
          },
          "execution_count": 44
        }
      ]
    },
    {
      "cell_type": "code",
      "metadata": {
        "id": "8Kk9TJXQfo0R"
      },
      "source": [
        "SHUFFLE = 100000\n",
        "#BATCH_SIZE = 32\n",
        "BATCH_SIZE = 16"
      ],
      "execution_count": 45,
      "outputs": []
    },
    {
      "cell_type": "code",
      "metadata": {
        "id": "ureu5ig-fsoT"
      },
      "source": [
        "def map_func(input_ids,masks,labels):\n",
        "  return {'input_ids':input_ids,'attention_mask':masks},labels"
      ],
      "execution_count": 46,
      "outputs": []
    },
    {
      "cell_type": "code",
      "metadata": {
        "id": "CDx946kRfwUQ"
      },
      "source": [
        "data = data.map(map_func)"
      ],
      "execution_count": 47,
      "outputs": []
    },
    {
      "cell_type": "code",
      "metadata": {
        "id": "FdxTBTGgfywP"
      },
      "source": [
        "data = data.shuffle(SHUFFLE).batch(BATCH_SIZE)"
      ],
      "execution_count": 48,
      "outputs": []
    },
    {
      "cell_type": "code",
      "metadata": {
        "id": "jYkkLHrLf1px",
        "colab": {
          "base_uri": "https://localhost:8080/"
        },
        "outputId": "2f48afbd-37f9-4e4a-f476-536342f09435"
      },
      "source": [
        "SIZE = Xids.shape[0]/BATCH_SIZE\n",
        "SIZE"
      ],
      "execution_count": 49,
      "outputs": [
        {
          "output_type": "execute_result",
          "data": {
            "text/plain": [
              "62.5"
            ]
          },
          "metadata": {
            "tags": []
          },
          "execution_count": 49
        }
      ]
    },
    {
      "cell_type": "code",
      "metadata": {
        "id": "PIVhShdff4BB"
      },
      "source": [
        "SPLIT = 0.9\n",
        "\n",
        "train = data.take(int(SIZE*SPLIT))\n",
        "val = data.skip(int(SIZE*SPLIT))"
      ],
      "execution_count": 50,
      "outputs": []
    },
    {
      "cell_type": "code",
      "metadata": {
        "id": "csZ5VlBPf8X_"
      },
      "source": [
        "from transformers import TFAutoModel"
      ],
      "execution_count": 51,
      "outputs": []
    },
    {
      "cell_type": "code",
      "metadata": {
        "id": "mkp4f3AYf-Y5",
        "colab": {
          "base_uri": "https://localhost:8080/"
        },
        "outputId": "65e67a66-7979-4e7d-db34-e1801c922786"
      },
      "source": [
        "bert = TFAutoModel.from_pretrained('bert-base-uncased')"
      ],
      "execution_count": 52,
      "outputs": [
        {
          "output_type": "stream",
          "text": [
            "Some layers from the model checkpoint at bert-base-uncased were not used when initializing TFBertModel: ['nsp___cls', 'mlm___cls']\n",
            "- This IS expected if you are initializing TFBertModel from the checkpoint of a model trained on another task or with another architecture (e.g. initializing a BertForSequenceClassification model from a BertForPreTraining model).\n",
            "- This IS NOT expected if you are initializing TFBertModel from the checkpoint of a model that you expect to be exactly identical (initializing a BertForSequenceClassification model from a BertForSequenceClassification model).\n",
            "All the layers of TFBertModel were initialized from the model checkpoint at bert-base-uncased.\n",
            "If your task is similar to the task the model of the checkpoint was trained on, you can already use TFBertModel for predictions without further training.\n"
          ],
          "name": "stderr"
        }
      ]
    },
    {
      "cell_type": "code",
      "metadata": {
        "id": "sgs8AegTgAZi",
        "colab": {
          "base_uri": "https://localhost:8080/"
        },
        "outputId": "7ed386e2-0f28-4f19-a86b-cd10fa350172"
      },
      "source": [
        "bert.summary()"
      ],
      "execution_count": 53,
      "outputs": [
        {
          "output_type": "stream",
          "text": [
            "Model: \"tf_bert_model\"\n",
            "_________________________________________________________________\n",
            "Layer (type)                 Output Shape              Param #   \n",
            "=================================================================\n",
            "bert (TFBertMainLayer)       multiple                  109482240 \n",
            "=================================================================\n",
            "Total params: 109,482,240\n",
            "Trainable params: 109,482,240\n",
            "Non-trainable params: 0\n",
            "_________________________________________________________________\n"
          ],
          "name": "stdout"
        }
      ]
    },
    {
      "cell_type": "code",
      "metadata": {
        "id": "-juHi3FEgGQj",
        "colab": {
          "base_uri": "https://localhost:8080/"
        },
        "outputId": "9ebaba09-ae3c-4ae4-bc7d-699abae70288"
      },
      "source": [
        "input_ids = tf.keras.layers.Input(shape=(256,),name='input_ids',dtype='int32')\n",
        "mask = tf.keras.layers.Input(shape=(256,),name='attention_mask',dtype='int32')\n",
        "\n",
        "embeddings = bert.bert(input_ids,attention_mask=mask)[0] #we access the transformer model within our bert object using the bert attribute (eg bert.bert instead of bert)\n",
        "\n",
        "x = tf.keras.layers.Dropout(0.4)(embeddings)\n",
        "x = tf.keras.layers.Bidirectional(tf.keras.layers.LSTM(768))(x)\n",
        "y = tf.keras.layers.Dense(2,activation='sigmoid',name='outputs')(x)\n",
        "\n",
        "model = tf.keras.Model(inputs = [input_ids,mask],outputs=y)\n",
        "\n",
        "model.layers[2].trainable= False"
      ],
      "execution_count": 54,
      "outputs": [
        {
          "output_type": "stream",
          "text": [
            "WARNING:tensorflow:From /usr/local/lib/python3.7/dist-packages/tensorflow/python/ops/array_ops.py:5049: calling gather (from tensorflow.python.ops.array_ops) with validate_indices is deprecated and will be removed in a future version.\n",
            "Instructions for updating:\n",
            "The `validate_indices` argument has no effect. Indices are always validated on CPU and never validated on GPU.\n"
          ],
          "name": "stdout"
        }
      ]
    },
    {
      "cell_type": "code",
      "metadata": {
        "id": "BJW0OOExgQjM",
        "colab": {
          "base_uri": "https://localhost:8080/",
          "height": 449
        },
        "outputId": "6babaea2-c4e1-47cc-8fc3-e01cf1567c4a"
      },
      "source": [
        "#Summarize the model\n",
        "from tensorflow.keras.utils import plot_model\n",
        "plot_model(model,'model_1.png',show_shapes=True)"
      ],
      "execution_count": 55,
      "outputs": [
        {
          "output_type": "execute_result",
          "data": {
            "image/png": "[encoded data removed]",
            "text/plain": [
              "<IPython.core.display.Image object>"
            ]
          },
          "metadata": {
            "tags": []
          },
          "execution_count": 55
        }
      ]
    },
    {
      "cell_type": "code",
      "metadata": {
        "id": "3hCtT40dgVXH",
        "colab": {
          "base_uri": "https://localhost:8080/"
        },
        "outputId": "d0b31efa-0ffc-4ee8-c252-28231b2c9bd2"
      },
      "source": [
        "model.summary()"
      ],
      "execution_count": 56,
      "outputs": [
        {
          "output_type": "stream",
          "text": [
            "Model: \"model\"\n",
            "__________________________________________________________________________________________________\n",
            "Layer (type)                    Output Shape         Param #     Connected to                     \n",
            "==================================================================================================\n",
            "input_ids (InputLayer)          [(None, 256)]        0                                            \n",
            "__________________________________________________________________________________________________\n",
            "attention_mask (InputLayer)     [(None, 256)]        0                                            \n",
            "__________________________________________________________________________________________________\n",
            "bert (TFBertMainLayer)          TFBaseModelOutputWit 109482240   input_ids[0][0]                  \n",
            "                                                                 attention_mask[0][0]             \n",
            "__________________________________________________________________________________________________\n",
            "dropout_37 (Dropout)            (None, 256, 768)     0           bert[0][0]                       \n",
            "__________________________________________________________________________________________________\n",
            "bidirectional (Bidirectional)   (None, 1536)         9443328     dropout_37[0][0]                 \n",
            "__________________________________________________________________________________________________\n",
            "outputs (Dense)                 (None, 2)            3074        bidirectional[0][0]              \n",
            "==================================================================================================\n",
            "Total params: 118,928,642\n",
            "Trainable params: 9,446,402\n",
            "Non-trainable params: 109,482,240\n",
            "__________________________________________________________________________________________________\n"
          ],
          "name": "stdout"
        }
      ]
    },
    {
      "cell_type": "code",
      "metadata": {
        "id": "QI3I4lDygZsw"
      },
      "source": [
        "optimizer = tf.keras.optimizers.Adam(lr=0.001,decay=1e-6)\n",
        "loss = tf.keras.losses.CategoricalCrossentropy()\n",
        "acc = tf.keras.metrics.CategoricalAccuracy('accuracy')\n",
        "\n",
        "model.compile(optimizer=optimizer,loss=loss,metrics=[acc])"
      ],
      "execution_count": 57,
      "outputs": []
    },
    {
      "cell_type": "code",
      "metadata": {
        "id": "vwe8T1-ngeq0"
      },
      "source": [
        "tf.config.run_functions_eagerly(True)"
      ],
      "execution_count": 58,
      "outputs": []
    },
    {
      "cell_type": "code",
      "metadata": {
        "id": "HzT5caSzgg9K",
        "colab": {
          "base_uri": "https://localhost:8080/"
        },
        "outputId": "621c6c53-17dc-4813-c72a-59ece48d87ac"
      },
      "source": [
        "history = model.fit(train,\n",
        "                    validation_data=val,\n",
        "                    epochs=10)"
      ],
      "execution_count": 59,
      "outputs": [
        {
          "output_type": "stream",
          "text": [
            "Epoch 1/10\n",
            "56/56 [==============================] - 65s 1s/step - loss: 0.6215 - accuracy: 0.7210 - val_loss: 0.2357 - val_accuracy: 0.9038\n",
            "Epoch 2/10\n",
            "56/56 [==============================] - 63s 1s/step - loss: 0.3675 - accuracy: 0.8382 - val_loss: 0.3564 - val_accuracy: 0.8269\n",
            "Epoch 3/10\n",
            "56/56 [==============================] - 62s 1s/step - loss: 0.3138 - accuracy: 0.8661 - val_loss: 0.1705 - val_accuracy: 0.9327\n",
            "Epoch 4/10\n",
            "56/56 [==============================] - 62s 1s/step - loss: 0.2076 - accuracy: 0.9219 - val_loss: 0.0896 - val_accuracy: 0.9808\n",
            "Epoch 5/10\n",
            "56/56 [==============================] - 62s 1s/step - loss: 0.2107 - accuracy: 0.9196 - val_loss: 0.0917 - val_accuracy: 0.9519\n",
            "Epoch 6/10\n",
            "56/56 [==============================] - 63s 1s/step - loss: 0.1605 - accuracy: 0.9230 - val_loss: 0.0508 - val_accuracy: 0.9904\n",
            "Epoch 7/10\n",
            "56/56 [==============================] - 63s 1s/step - loss: 0.1331 - accuracy: 0.9453 - val_loss: 0.0319 - val_accuracy: 1.0000\n",
            "Epoch 8/10\n",
            "56/56 [==============================] - 62s 1s/step - loss: 0.1160 - accuracy: 0.9609 - val_loss: 0.0153 - val_accuracy: 1.0000\n",
            "Epoch 9/10\n",
            "56/56 [==============================] - 63s 1s/step - loss: 0.0978 - accuracy: 0.9643 - val_loss: 0.0416 - val_accuracy: 0.9808\n",
            "Epoch 10/10\n",
            "56/56 [==============================] - 62s 1s/step - loss: 0.1332 - accuracy: 0.9587 - val_loss: 0.0259 - val_accuracy: 1.0000\n"
          ],
          "name": "stdout"
        }
      ]
    },
    {
      "cell_type": "code",
      "metadata": {
        "id": "P-O3J6agSnCC"
      },
      "source": [
        "bert_history = pd.DataFrame(history.history)"
      ],
      "execution_count": 61,
      "outputs": []
    },
    {
      "cell_type": "code",
      "metadata": {
        "colab": {
          "base_uri": "https://localhost:8080/",
          "height": 363
        },
        "id": "wuko21J2S0l0",
        "outputId": "81d93615-a9fc-4141-cd34-6afe646765e4"
      },
      "source": [
        "bert_history"
      ],
      "execution_count": 62,
      "outputs": [
        {
          "output_type": "execute_result",
          "data": {
            "text/html": [
              "<div>\n",
              "<style scoped>\n",
              "    .dataframe tbody tr th:only-of-type {\n",
              "        vertical-align: middle;\n",
              "    }\n",
              "\n",
              "    .dataframe tbody tr th {\n",
              "        vertical-align: top;\n",
              "    }\n",
              "\n",
              "    .dataframe thead th {\n",
              "        text-align: right;\n",
              "    }\n",
              "</style>\n",
              "<table border=\"1\" class=\"dataframe\">\n",
              "  <thead>\n",
              "    <tr style=\"text-align: right;\">\n",
              "      <th></th>\n",
              "      <th>loss</th>\n",
              "      <th>accuracy</th>\n",
              "      <th>val_loss</th>\n",
              "      <th>val_accuracy</th>\n",
              "    </tr>\n",
              "  </thead>\n",
              "  <tbody>\n",
              "    <tr>\n",
              "      <th>0</th>\n",
              "      <td>0.621467</td>\n",
              "      <td>0.720982</td>\n",
              "      <td>0.235651</td>\n",
              "      <td>0.903846</td>\n",
              "    </tr>\n",
              "    <tr>\n",
              "      <th>1</th>\n",
              "      <td>0.367511</td>\n",
              "      <td>0.838170</td>\n",
              "      <td>0.356404</td>\n",
              "      <td>0.826923</td>\n",
              "    </tr>\n",
              "    <tr>\n",
              "      <th>2</th>\n",
              "      <td>0.313828</td>\n",
              "      <td>0.866071</td>\n",
              "      <td>0.170477</td>\n",
              "      <td>0.932692</td>\n",
              "    </tr>\n",
              "    <tr>\n",
              "      <th>3</th>\n",
              "      <td>0.207595</td>\n",
              "      <td>0.921875</td>\n",
              "      <td>0.089611</td>\n",
              "      <td>0.980769</td>\n",
              "    </tr>\n",
              "    <tr>\n",
              "      <th>4</th>\n",
              "      <td>0.210701</td>\n",
              "      <td>0.919643</td>\n",
              "      <td>0.091747</td>\n",
              "      <td>0.951923</td>\n",
              "    </tr>\n",
              "    <tr>\n",
              "      <th>5</th>\n",
              "      <td>0.160549</td>\n",
              "      <td>0.922991</td>\n",
              "      <td>0.050811</td>\n",
              "      <td>0.990385</td>\n",
              "    </tr>\n",
              "    <tr>\n",
              "      <th>6</th>\n",
              "      <td>0.133072</td>\n",
              "      <td>0.945312</td>\n",
              "      <td>0.031881</td>\n",
              "      <td>1.000000</td>\n",
              "    </tr>\n",
              "    <tr>\n",
              "      <th>7</th>\n",
              "      <td>0.116027</td>\n",
              "      <td>0.960938</td>\n",
              "      <td>0.015330</td>\n",
              "      <td>1.000000</td>\n",
              "    </tr>\n",
              "    <tr>\n",
              "      <th>8</th>\n",
              "      <td>0.097780</td>\n",
              "      <td>0.964286</td>\n",
              "      <td>0.041626</td>\n",
              "      <td>0.980769</td>\n",
              "    </tr>\n",
              "    <tr>\n",
              "      <th>9</th>\n",
              "      <td>0.133201</td>\n",
              "      <td>0.958705</td>\n",
              "      <td>0.025901</td>\n",
              "      <td>1.000000</td>\n",
              "    </tr>\n",
              "  </tbody>\n",
              "</table>\n",
              "</div>"
            ],
            "text/plain": [
              "       loss  accuracy  val_loss  val_accuracy\n",
              "0  0.621467  0.720982  0.235651      0.903846\n",
              "1  0.367511  0.838170  0.356404      0.826923\n",
              "2  0.313828  0.866071  0.170477      0.932692\n",
              "3  0.207595  0.921875  0.089611      0.980769\n",
              "4  0.210701  0.919643  0.091747      0.951923\n",
              "5  0.160549  0.922991  0.050811      0.990385\n",
              "6  0.133072  0.945312  0.031881      1.000000\n",
              "7  0.116027  0.960938  0.015330      1.000000\n",
              "8  0.097780  0.964286  0.041626      0.980769\n",
              "9  0.133201  0.958705  0.025901      1.000000"
            ]
          },
          "metadata": {
            "tags": []
          },
          "execution_count": 62
        }
      ]
    },
    {
      "cell_type": "code",
      "metadata": {
        "colab": {
          "base_uri": "https://localhost:8080/"
        },
        "id": "5kO93l1lS3QN",
        "outputId": "398c7ae3-2ead-4071-fa4d-ba3d42f08345"
      },
      "source": [
        "bert_history.columns"
      ],
      "execution_count": 63,
      "outputs": [
        {
          "output_type": "execute_result",
          "data": {
            "text/plain": [
              "Index(['loss', 'accuracy', 'val_loss', 'val_accuracy'], dtype='object')"
            ]
          },
          "metadata": {
            "tags": []
          },
          "execution_count": 63
        }
      ]
    },
    {
      "cell_type": "code",
      "metadata": {
        "id": "Ycl719S6S6OV"
      },
      "source": [
        "bert_history = bert_history[['accuracy','val_accuracy']]"
      ],
      "execution_count": 64,
      "outputs": []
    },
    {
      "cell_type": "code",
      "metadata": {
        "id": "nKvyszV-S8iD"
      },
      "source": [
        "import matplotlib.pyplot as plt\n",
        "import seaborn as sns"
      ],
      "execution_count": 65,
      "outputs": []
    },
    {
      "cell_type": "code",
      "metadata": {
        "colab": {
          "base_uri": "https://localhost:8080/",
          "height": 541
        },
        "id": "g4oZw8sFS-yo",
        "outputId": "a1425b6e-be18-445f-9807-1e0f09c82f41"
      },
      "source": [
        "plt.figure()\n",
        "ax=bert_history.plot(figsize=(10,8))\n",
        "ax.set_ylabel('ACC_SCORE',fontsize=15)\n",
        "ax.set_xlabel('No_of_epoch',fontsize=15)\n",
        "ax.set_title('bert_model No of epochs vs accuracy score',fontsize=20)\n",
        "plt.grid()"
      ],
      "execution_count": 66,
      "outputs": [
        {
          "output_type": "display_data",
          "data": {
            "text/plain": [
              "<Figure size 432x288 with 0 Axes>"
            ]
          },
          "metadata": {
            "tags": []
          }
        },
        {
          "output_type": "display_data",
          "data": {
            "image/png": "[encoded data removed]",
            "text/plain": [
              "<Figure size 720x576 with 1 Axes>"
            ]
          },
          "metadata": {
            "tags": [],
            "needs_background": "light"
          }
        }
      ]
    },
    {
      "cell_type": "code",
      "metadata": {
        "colab": {
          "base_uri": "https://localhost:8080/"
        },
        "id": "9q1hIDw9TAs1",
        "outputId": "6e88a1ed-bac7-4691-bb62-85a8eb31d697"
      },
      "source": [
        "loss ,acc = model.evaluate(val)"
      ],
      "execution_count": 67,
      "outputs": [
        {
          "output_type": "stream",
          "text": [
            "7/7 [==============================] - 2s 332ms/step - loss: 0.0380 - accuracy: 1.0000\n"
          ],
          "name": "stdout"
        }
      ]
    },
    {
      "cell_type": "code",
      "metadata": {
        "colab": {
          "base_uri": "https://localhost:8080/"
        },
        "id": "K0QyTK0cTFjL",
        "outputId": "c16cab4e-05c4-4d98-a82c-2b7afee7d0b8"
      },
      "source": [
        "print(\"=\"*80)\n",
        "print(\"Loss for bert with custom layer on validation dataset: \",loss)\n",
        "print(\"-\"*80)\n",
        "print(\"Accuracy for bert with custom layer on validation dataset: \",acc)\n",
        "print(\"=\"*80)"
      ],
      "execution_count": 68,
      "outputs": [
        {
          "output_type": "stream",
          "text": [
            "================================================================================\n",
            "Loss for bert with custom layer on validation dataset:  0.03797278553247452\n",
            "--------------------------------------------------------------------------------\n",
            "Accuracy for bert with custom layer on validation dataset:  1.0\n",
            "================================================================================\n"
          ],
          "name": "stdout"
        }
      ]
    },
    {
      "cell_type": "code",
      "metadata": {
        "id": "sYfiU0M1TJ0-"
      },
      "source": [
        "y_pred_bert = model.predict(val)"
      ],
      "execution_count": 69,
      "outputs": []
    },
    {
      "cell_type": "code",
      "metadata": {
        "colab": {
          "base_uri": "https://localhost:8080/"
        },
        "id": "-ilIVGegTNNM",
        "outputId": "2a464cff-3eea-494c-af7a-6e93335599a5"
      },
      "source": [
        "y_pred_bert"
      ],
      "execution_count": 70,
      "outputs": [
        {
          "output_type": "execute_result",
          "data": {
            "text/plain": [
              "array([[0.15940383, 0.8344355 ],\n",
              "       [0.03471953, 0.95320725],\n",
              "       [0.9326038 , 0.07236854],\n",
              "       [0.9458102 , 0.06940205],\n",
              "       [0.9856111 , 0.01454523],\n",
              "       [0.9501133 , 0.06302358],\n",
              "       [0.14720064, 0.82696116],\n",
              "       [0.06004765, 0.9307932 ],\n",
              "       [0.174628  , 0.80678535],\n",
              "       [0.9646317 , 0.04019828],\n",
              "       [0.89153916, 0.12284926],\n",
              "       [0.03580913, 0.95733315],\n",
              "       [0.1113892 , 0.86720216],\n",
              "       [0.9445803 , 0.07671159],\n",
              "       [0.9771204 , 0.0311174 ],\n",
              "       [0.16601515, 0.7813487 ],\n",
              "       [0.98334527, 0.02057673],\n",
              "       [0.9526215 , 0.07282934],\n",
              "       [0.98460555, 0.02100022],\n",
              "       [0.08250376, 0.88277537],\n",
              "       [0.259969  , 0.7294735 ],\n",
              "       [0.9426963 , 0.07814385],\n",
              "       [0.01676786, 0.9706799 ],\n",
              "       [0.97397214, 0.0375527 ],\n",
              "       [0.99117786, 0.01273344],\n",
              "       [0.96520555, 0.04941897],\n",
              "       [0.99256563, 0.00967942],\n",
              "       [0.00366918, 0.9932842 ],\n",
              "       [0.02615173, 0.9671971 ],\n",
              "       [0.04121438, 0.94856286],\n",
              "       [0.02336725, 0.96310955],\n",
              "       [0.10125494, 0.8816023 ],\n",
              "       [0.00394312, 0.9937065 ],\n",
              "       [0.9767371 , 0.03298079],\n",
              "       [0.02417314, 0.9687603 ],\n",
              "       [0.0312353 , 0.9525238 ],\n",
              "       [0.05802976, 0.9320514 ],\n",
              "       [0.0938802 , 0.8872095 ],\n",
              "       [0.9368283 , 0.09512219],\n",
              "       [0.9667829 , 0.0352034 ],\n",
              "       [0.10731436, 0.85138667],\n",
              "       [0.04126195, 0.93443835],\n",
              "       [0.9822176 , 0.02588641],\n",
              "       [0.06931222, 0.89635855],\n",
              "       [0.9434992 , 0.06013044],\n",
              "       [0.8455793 , 0.17972592],\n",
              "       [0.9584069 , 0.05759941],\n",
              "       [0.9198134 , 0.10850713],\n",
              "       [0.9861946 , 0.01951726],\n",
              "       [0.007194  , 0.98710597],\n",
              "       [0.03005766, 0.96185726],\n",
              "       [0.03138577, 0.95072156],\n",
              "       [0.07731251, 0.90275556],\n",
              "       [0.1690651 , 0.80951476],\n",
              "       [0.8828391 , 0.13211706],\n",
              "       [0.15560403, 0.81544197],\n",
              "       [0.01958778, 0.9689171 ],\n",
              "       [0.9903619 , 0.0100776 ],\n",
              "       [0.01726313, 0.97952086],\n",
              "       [0.9917007 , 0.01080221],\n",
              "       [0.98035645, 0.02332823],\n",
              "       [0.9342376 , 0.07962999],\n",
              "       [0.18303451, 0.7627172 ],\n",
              "       [0.00422767, 0.99388945],\n",
              "       [0.941011  , 0.07745429],\n",
              "       [0.07326816, 0.91318613],\n",
              "       [0.9388436 , 0.09423257],\n",
              "       [0.9697892 , 0.03860896],\n",
              "       [0.04165989, 0.9413932 ],\n",
              "       [0.19177334, 0.8041888 ],\n",
              "       [0.3687726 , 0.6052163 ],\n",
              "       [0.09361068, 0.86556077],\n",
              "       [0.0033026 , 0.9950859 ],\n",
              "       [0.99578035, 0.00591958],\n",
              "       [0.94654965, 0.07998535],\n",
              "       [0.40438032, 0.5700907 ],\n",
              "       [0.14088748, 0.838758  ],\n",
              "       [0.9673642 , 0.04476102],\n",
              "       [0.33742818, 0.6487046 ],\n",
              "       [0.01766348, 0.9715285 ],\n",
              "       [0.84517145, 0.17445679],\n",
              "       [0.9494588 , 0.05195703],\n",
              "       [0.95894134, 0.06512569],\n",
              "       [0.61333364, 0.4361472 ],\n",
              "       [0.18212828, 0.8019711 ],\n",
              "       [0.04002279, 0.9387776 ],\n",
              "       [0.9484848 , 0.08805971],\n",
              "       [0.94823515, 0.07269505],\n",
              "       [0.2077405 , 0.7739556 ],\n",
              "       [0.8140775 , 0.20527554],\n",
              "       [0.9291433 , 0.08575451],\n",
              "       [0.9263028 , 0.09374364],\n",
              "       [0.01813931, 0.9775079 ],\n",
              "       [0.83668464, 0.22308722],\n",
              "       [0.00514473, 0.9924655 ],\n",
              "       [0.1518417 , 0.8499552 ],\n",
              "       [0.9922348 , 0.00966001],\n",
              "       [0.28727037, 0.6647772 ],\n",
              "       [0.01190671, 0.97973895],\n",
              "       [0.01228572, 0.98128945],\n",
              "       [0.95058256, 0.07078196],\n",
              "       [0.8766088 , 0.16152498],\n",
              "       [0.77882624, 0.2623944 ],\n",
              "       [0.9567359 , 0.05487487]], dtype=float32)"
            ]
          },
          "metadata": {
            "tags": []
          },
          "execution_count": 70
        }
      ]
    },
    {
      "cell_type": "code",
      "metadata": {
        "colab": {
          "base_uri": "https://localhost:8080/"
        },
        "id": "doOeV3NpTPyr",
        "outputId": "c3c85fd3-d05e-44b1-eb9a-914b3a0a5417"
      },
      "source": [
        "from prettytable import PrettyTable\n",
        "    \n",
        "x = PrettyTable()\n",
        "x.field_names = [\"Sr No\" ,\"Problem type \", \"Model\", \"Test Accuracy\"]\n",
        "x.add_row([\"1\", \"Binary classification\\n \", \n",
        "           \"Naive Bayes\", '91%'])\n",
        "x.add_row([\"2\", \"Binary classification\\n \", \n",
        "           \"Logistic Regression\", '95%'])\n",
        "x.add_row([\"3\", \"Binary classification\\n \", \n",
        "           \"Bert(pretrained hugging face)\\n With Custom layers 1000 Datapoints \", \n",
        "           '100%'])\n",
        "\n",
        "print(x)"
      ],
      "execution_count": 30,
      "outputs": [
        {
          "output_type": "stream",
          "text": [
            "+-------+-----------------------+--------------------------------------+---------------+\n",
            "| Sr No |     Problem type      |                Model                 | Test Accuracy |\n",
            "+-------+-----------------------+--------------------------------------+---------------+\n",
            "|   1   | Binary classification |             Naive Bayes              |      91%      |\n",
            "|       |                       |                                      |               |\n",
            "|   2   | Binary classification |         Logistic Regression          |      95%      |\n",
            "|       |                       |                                      |               |\n",
            "|   3   | Binary classification |    Bert(pretrained hugging face)     |      100%     |\n",
            "|       |                       |  With Custom layers 1000 Datapoints  |               |\n",
            "+-------+-----------------------+--------------------------------------+---------------+\n"
          ],
          "name": "stdout"
        }
      ]
    },
    {
      "cell_type": "code",
      "metadata": {
        "id": "M3QE-RdVTnKv"
      },
      "source": [
        ""
      ],
      "execution_count": null,
      "outputs": []
    }
  ]
}